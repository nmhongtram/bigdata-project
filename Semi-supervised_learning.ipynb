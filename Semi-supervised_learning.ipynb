{
  "nbformat": 4,
  "nbformat_minor": 0,
  "metadata": {
    "colab": {
      "provenance": [],
      "collapsed_sections": [
        "ALqvgK6FL7wO",
        "REBH8iXuMEeQ",
        "ExVhVNhfOZls"
      ],
      "mount_file_id": "13BwtdbvYyuSDqgieqfn8Lp8jqfIfQe7A",
      "authorship_tag": "ABX9TyOUO9N1SKHM7n6BkxPs+Snj",
      "include_colab_link": true
    },
    "kernelspec": {
      "name": "python3",
      "display_name": "Python 3"
    },
    "language_info": {
      "name": "python"
    }
  },
  "cells": [
    {
      "cell_type": "markdown",
      "metadata": {
        "id": "view-in-github",
        "colab_type": "text"
      },
      "source": [
        "<a href=\"https://colab.research.google.com/github/nmhongtram/bigdata-project/blob/semi-supervised-learning/Semi-supervised_learning.ipynb\" target=\"_parent\"><img src=\"https://colab.research.google.com/assets/colab-badge.svg\" alt=\"Open In Colab\"/></a>"
      ]
    },
    {
      "cell_type": "code",
      "execution_count": 1,
      "metadata": {
        "colab": {
          "base_uri": "https://localhost:8080/"
        },
        "id": "siFUmPkoAEKn",
        "outputId": "f3d9c37a-5080-465b-8e16-8544b3f48c7b"
      },
      "outputs": [
        {
          "output_type": "stream",
          "name": "stdout",
          "text": [
            "Mounted at /content/drive\n"
          ]
        }
      ],
      "source": [
        "## Kết nối Google Drive\n",
        "from google.colab import drive\n",
        "drive.mount(\"/content/drive\", force_remount = True)\n",
        "\n",
        "## Thư mục làm việc\n",
        "folder = '/content/drive/MyDrive/Colab Notebooks'"
      ]
    },
    {
      "cell_type": "code",
      "source": [
        "import pandas as pd\n",
        "import numpy as np\n",
        "import matplotlib.pyplot as plt\n",
        "import seaborn as sns\n",
        "import json\n",
        "import os\n",
        "import csv"
      ],
      "metadata": {
        "id": "3WVam7QQA6nk"
      },
      "execution_count": 2,
      "outputs": []
    },
    {
      "cell_type": "code",
      "source": [
        "# comments_data\n",
        "comments_data_path = folder+'/Data/Big Data/comments_data'\n",
        "all_comments = []"
      ],
      "metadata": {
        "id": "y1BypwNsAOUK"
      },
      "execution_count": 3,
      "outputs": []
    },
    {
      "cell_type": "code",
      "source": [
        "# Đọc toàn bộ comment từ tất cả các file\n",
        "for filename in sorted(os.listdir(comments_data_path)):\n",
        "    if filename.endswith('.json'):\n",
        "        file_path = os.path.join(comments_data_path, filename)\n",
        "        with open(file_path, 'r', encoding='utf-8') as f:\n",
        "            data = json.load(f)\n",
        "            if isinstance(data, list):\n",
        "                all_comments.extend(data)  # Thêm toàn bộ comment"
      ],
      "metadata": {
        "id": "hQMP3LgAAkJ6"
      },
      "execution_count": 4,
      "outputs": []
    },
    {
      "cell_type": "code",
      "source": [
        "# ✅ Hiển thị 10 comment đầu tiên để kiểm tra\n",
        "for i, comment in enumerate(all_comments[:10]):\n",
        "    print(f\"\\nComment {i+1}:\")\n",
        "    print(json.dumps(comment, indent=2, ensure_ascii=False))"
      ],
      "metadata": {
        "colab": {
          "base_uri": "https://localhost:8080/"
        },
        "collapsed": true,
        "id": "OFn27zHbAoA2",
        "outputId": "b36b3986-e2bd-40ce-ee26-cbe2960a3a07"
      },
      "execution_count": 5,
      "outputs": [
        {
          "output_type": "stream",
          "name": "stdout",
          "text": [
            "\n",
            "Comment 1:\n",
            "{\n",
            "  \"videoWebUrl\": \"https://www.tiktok.com/@drduyenvn/video/6977367028873055489\",\n",
            "  \"submittedVideoUrl\": \"https://www.tiktok.com/@drduyenvn/video/6977367028873055489\",\n",
            "  \"input\": \"https://www.tiktok.com/@drduyenvn/video/6977367028873055489\",\n",
            "  \"cid\": \"6978487559790527233\",\n",
            "  \"createTime\": 1624805757,\n",
            "  \"createTimeISO\": \"2021-06-27T14:55:57.000Z\",\n",
            "  \"text\": \"Cảm ơn bác sĩ chị đang dùnh la roch thấy ok lắm\",\n",
            "  \"diggCount\": 1,\n",
            "  \"likedByAuthor\": true,\n",
            "  \"pinnedByAuthor\": false,\n",
            "  \"repliesToId\": null,\n",
            "  \"replyCommentTotal\": 2,\n",
            "  \"uid\": \"6761019601562387457\",\n",
            "  \"uniqueId\": \"minhhien3823\",\n",
            "  \"avatarThumbnail\": \"https://p16-sign-sg.tiktokcdn.com/tos-alisg-avt-0068/90e5a9220786b31647ffcb4447bdbb40~tplv-tiktokx-cropcenter:100:100.jpg?dr=14579&refresh_token=29087948&x-expires=1746212400&x-signature=7V3VIVVLd4j5yw5IUjbSSyBOmzk%3D&t=4d5b0474&ps=13740610&shp=30310797&shcp=ff37627b&idc=maliva\"\n",
            "}\n",
            "\n",
            "Comment 2:\n",
            "{\n",
            "  \"videoWebUrl\": \"https://www.tiktok.com/@drduyenvn/video/6977367028873055489\",\n",
            "  \"submittedVideoUrl\": \"https://www.tiktok.com/@drduyenvn/video/6977367028873055489\",\n",
            "  \"input\": \"https://www.tiktok.com/@drduyenvn/video/6977367028873055489\",\n",
            "  \"cid\": \"6977749499381121793\",\n",
            "  \"createTime\": 1624633914,\n",
            "  \"createTimeISO\": \"2021-06-25T15:11:54.000Z\",\n",
            "  \"text\": \"Có loại kcn vật lý hoặc vật lý lai hoá học kiềm dầu ko ạ\",\n",
            "  \"diggCount\": 3,\n",
            "  \"likedByAuthor\": true,\n",
            "  \"pinnedByAuthor\": false,\n",
            "  \"repliesToId\": null,\n",
            "  \"replyCommentTotal\": 1,\n",
            "  \"uid\": \"6632594423325081602\",\n",
            "  \"uniqueId\": \"tuyetphan1304\",\n",
            "  \"avatarThumbnail\": \"https://p16-sign-sg.tiktokcdn.com/tos-alisg-avt-0068/7325898672544153601~tplv-tiktokx-cropcenter:100:100.jpg?dr=14579&refresh_token=c371af4e&x-expires=1746212400&x-signature=bW6nGoTIcna1ibgVdUDRd2gOfxk%3D&t=4d5b0474&ps=13740610&shp=30310797&shcp=ff37627b&idc=maliva\"\n",
            "}\n",
            "\n",
            "Comment 3:\n",
            "{\n",
            "  \"videoWebUrl\": \"https://www.tiktok.com/@drduyenvn/video/6977367028873055489\",\n",
            "  \"submittedVideoUrl\": \"https://www.tiktok.com/@drduyenvn/video/6977367028873055489\",\n",
            "  \"input\": \"https://www.tiktok.com/@drduyenvn/video/6977367028873055489\",\n",
            "  \"cid\": \"6980963679337005851\",\n",
            "  \"createTime\": 1625382280,\n",
            "  \"createTimeISO\": \"2021-07-04T07:04:40.000Z\",\n",
            "  \"text\": \"dùng laros toàn để lại ghét k à. bôi xong k tán ra nổi luôn\",\n",
            "  \"diggCount\": 2,\n",
            "  \"likedByAuthor\": false,\n",
            "  \"pinnedByAuthor\": false,\n",
            "  \"repliesToId\": null,\n",
            "  \"replyCommentTotal\": 1,\n",
            "  \"uid\": \"6829700150342452225\",\n",
            "  \"uniqueId\": \"binh.t.pham\",\n",
            "  \"avatarThumbnail\": \"https://p16-sign-sg.tiktokcdn.com/tos-alisg-avt-0068/c3bcd61b2baa95c8904ae795563c728c~tplv-tiktokx-cropcenter:100:100.jpg?dr=14579&refresh_token=58b68071&x-expires=1746212400&x-signature=iuYvoaf1qVtXQwbBLx8fQK4sWRo%3D&t=4d5b0474&ps=13740610&shp=30310797&shcp=ff37627b&idc=maliva\"\n",
            "}\n",
            "\n",
            "Comment 4:\n",
            "{\n",
            "  \"videoWebUrl\": \"https://www.tiktok.com/@drduyenvn/video/6977367028873055489\",\n",
            "  \"submittedVideoUrl\": \"https://www.tiktok.com/@drduyenvn/video/6977367028873055489\",\n",
            "  \"input\": \"https://www.tiktok.com/@drduyenvn/video/6977367028873055489\",\n",
            "  \"cid\": \"6977385265648173826\",\n",
            "  \"createTime\": 1624549108,\n",
            "  \"createTimeISO\": \"2021-06-24T15:38:28.000Z\",\n",
            "  \"text\": \"Da dầu thì sài sữa rửa mặt nào v chị ???\",\n",
            "  \"diggCount\": 2,\n",
            "  \"likedByAuthor\": true,\n",
            "  \"pinnedByAuthor\": false,\n",
            "  \"repliesToId\": null,\n",
            "  \"replyCommentTotal\": 1,\n",
            "  \"uid\": \"6688178827048649729\",\n",
            "  \"uniqueId\": \"ngpu0110\",\n",
            "  \"avatarThumbnail\": \"https://p16-sign-sg.tiktokcdn.com/tos-alisg-avt-0068/9a3d1a3925a79b905ae1135cbf3eb6ac~tplv-tiktokx-cropcenter:100:100.jpg?dr=14579&refresh_token=7a318033&x-expires=1746212400&x-signature=67t1FjI7CMn4LOEb5idzbCQ7ico%3D&t=4d5b0474&ps=13740610&shp=30310797&shcp=ff37627b&idc=maliva\"\n",
            "}\n",
            "\n",
            "Comment 5:\n",
            "{\n",
            "  \"videoWebUrl\": \"https://www.tiktok.com/@drduyenvn/video/6977367028873055489\",\n",
            "  \"submittedVideoUrl\": \"https://www.tiktok.com/@drduyenvn/video/6977367028873055489\",\n",
            "  \"input\": \"https://www.tiktok.com/@drduyenvn/video/6977367028873055489\",\n",
            "  \"cid\": \"6977383620424762138\",\n",
            "  \"createTime\": 1624548769,\n",
            "  \"createTimeISO\": \"2021-06-24T15:32:49.000Z\",\n",
            "  \"text\": \"còn kem chống nắng cho da thường thì sao ạ??\",\n",
            "  \"diggCount\": 4,\n",
            "  \"likedByAuthor\": true,\n",
            "  \"pinnedByAuthor\": false,\n",
            "  \"repliesToId\": null,\n",
            "  \"replyCommentTotal\": 0,\n",
            "  \"uid\": \"6575418490651672577\",\n",
            "  \"uniqueId\": \"trngan2209\",\n",
            "  \"avatarThumbnail\": \"https://p16-sign-sg.tiktokcdn.com/tos-alisg-avt-0068/22a852d7d99461d968497b6edb2bf631~tplv-tiktokx-cropcenter:100:100.jpg?dr=14579&refresh_token=d082f59a&x-expires=1746212400&x-signature=gn7wMv1CiBzVn3CITOBBnQpmktk%3D&t=4d5b0474&ps=13740610&shp=30310797&shcp=ff37627b&idc=maliva\"\n",
            "}\n",
            "\n",
            "Comment 6:\n",
            "{\n",
            "  \"videoWebUrl\": \"https://www.tiktok.com/@drduyenvn/video/6977367028873055489\",\n",
            "  \"submittedVideoUrl\": \"https://www.tiktok.com/@drduyenvn/video/6977367028873055489\",\n",
            "  \"input\": \"https://www.tiktok.com/@drduyenvn/video/6977367028873055489\",\n",
            "  \"cid\": \"6980928297367257882\",\n",
            "  \"createTime\": 1625374043,\n",
            "  \"createTimeISO\": \"2021-07-04T04:47:23.000Z\",\n",
            "  \"text\": \"chị ơi e da dầu mụn ẩn sd kcn cell fusionC clear có phù hợp k ạ\",\n",
            "  \"diggCount\": 2,\n",
            "  \"likedByAuthor\": false,\n",
            "  \"pinnedByAuthor\": false,\n",
            "  \"repliesToId\": null,\n",
            "  \"replyCommentTotal\": 0,\n",
            "  \"uid\": \"6612087094297034753\",\n",
            "  \"uniqueId\": \"huupuc11\",\n",
            "  \"avatarThumbnail\": \"https://p16-sign-sg.tiktokcdn.com/tos-alisg-avt-0068/f845a4be967ad48e07dd32e8bcfb16c2~tplv-tiktokx-cropcenter:100:100.jpg?dr=14579&refresh_token=54ae8065&x-expires=1746212400&x-signature=HnBN4o%2F9oGUzjHe3%2BrZpdISkpX4%3D&t=4d5b0474&ps=13740610&shp=30310797&shcp=ff37627b&idc=maliva\"\n",
            "}\n",
            "\n",
            "Comment 7:\n",
            "{\n",
            "  \"videoWebUrl\": \"https://www.tiktok.com/@drduyenvn/video/6977367028873055489\",\n",
            "  \"submittedVideoUrl\": \"https://www.tiktok.com/@drduyenvn/video/6977367028873055489\",\n",
            "  \"input\": \"https://www.tiktok.com/@drduyenvn/video/6977367028873055489\",\n",
            "  \"cid\": \"6977600660372554497\",\n",
            "  \"createTime\": 1624599262,\n",
            "  \"createTimeISO\": \"2021-06-25T05:34:22.000Z\",\n",
            "  \"text\": \"cô ơi test sữa rửa mặt simple đi cô\",\n",
            "  \"diggCount\": 2,\n",
            "  \"likedByAuthor\": false,\n",
            "  \"pinnedByAuthor\": false,\n",
            "  \"repliesToId\": null,\n",
            "  \"replyCommentTotal\": 0,\n",
            "  \"uid\": \"6854111250826658817\",\n",
            "  \"uniqueId\": \"hyphuong12\",\n",
            "  \"avatarThumbnail\": \"https://p16-sign-va.tiktokcdn.com/tos-maliva-avt-0068/eaee93620c32ea84c02d26bd6815aa63~tplv-tiktokx-cropcenter:100:100.jpg?dr=14579&refresh_token=ddae1c79&x-expires=1746212400&x-signature=fcpR37v1CrPp0tWdzQEBvsskkKs%3D&t=4d5b0474&ps=13740610&shp=30310797&shcp=ff37627b&idc=maliva\"\n",
            "}\n",
            "\n",
            "Comment 8:\n",
            "{\n",
            "  \"videoWebUrl\": \"https://www.tiktok.com/@drduyenvn/video/6977367028873055489\",\n",
            "  \"submittedVideoUrl\": \"https://www.tiktok.com/@drduyenvn/video/6977367028873055489\",\n",
            "  \"input\": \"https://www.tiktok.com/@drduyenvn/video/6977367028873055489\",\n",
            "  \"cid\": \"6990764291179905818\",\n",
            "  \"createTime\": 1627664162,\n",
            "  \"createTimeISO\": \"2021-07-30T16:56:02.000Z\",\n",
            "  \"text\": \"E lan dau xài kcn xài eucerin mà mồ hôi mồ kê nó đổ tùm lum cảm giác khó chịu vãi có ai bị vậy không ạ 🥺\",\n",
            "  \"diggCount\": 1,\n",
            "  \"likedByAuthor\": false,\n",
            "  \"pinnedByAuthor\": false,\n",
            "  \"repliesToId\": null,\n",
            "  \"replyCommentTotal\": 0,\n",
            "  \"uid\": \"68042623127\",\n",
            "  \"uniqueId\": \"im.huong29_\",\n",
            "  \"avatarThumbnail\": \"https://p16-sign-useast2a.tiktokcdn.com/tos-useast2a-avt-0068-aiso/8606a56ee604202bb81fb91fbcbee5df~tplv-tiktokx-cropcenter:100:100.jpg?dr=14579&refresh_token=935dd3a8&x-expires=1746212400&x-signature=yPDEIYQ%2B0FcM4uS9XslACAhU4HQ%3D&t=4d5b0474&ps=13740610&shp=30310797&shcp=ff37627b&idc=maliva\"\n",
            "}\n",
            "\n",
            "Comment 9:\n",
            "{\n",
            "  \"videoWebUrl\": \"https://www.tiktok.com/@drduyenvn/video/6977367028873055489\",\n",
            "  \"submittedVideoUrl\": \"https://www.tiktok.com/@drduyenvn/video/6977367028873055489\",\n",
            "  \"input\": \"https://www.tiktok.com/@drduyenvn/video/6977367028873055489\",\n",
            "  \"cid\": \"6981463448757191450\",\n",
            "  \"createTime\": 1625498641,\n",
            "  \"createTimeISO\": \"2021-07-05T15:24:01.000Z\",\n",
            "  \"text\": \"chị ơi e da dầu dùng kcn laroche bị vệt trắng và vón cục thì dùng loại nào ok hơn ạ\",\n",
            "  \"diggCount\": 1,\n",
            "  \"likedByAuthor\": false,\n",
            "  \"pinnedByAuthor\": false,\n",
            "  \"repliesToId\": null,\n",
            "  \"replyCommentTotal\": 0,\n",
            "  \"uid\": \"6861503524477191170\",\n",
            "  \"uniqueId\": \"22062020quynhchi\",\n",
            "  \"avatarThumbnail\": \"https://p16-sign-sg.tiktokcdn.com/tos-alisg-avt-0068/575276d20ddf163267b60600fdb15644~tplv-tiktokx-cropcenter:100:100.jpg?dr=14579&refresh_token=99b6b9ca&x-expires=1746212400&x-signature=LTx1kTPPgz%2FmpURyOpereDT6MR0%3D&t=4d5b0474&ps=13740610&shp=30310797&shcp=ff37627b&idc=maliva\"\n",
            "}\n",
            "\n",
            "Comment 10:\n",
            "{\n",
            "  \"videoWebUrl\": \"https://www.tiktok.com/@drduyenvn/video/6977367028873055489\",\n",
            "  \"submittedVideoUrl\": \"https://www.tiktok.com/@drduyenvn/video/6977367028873055489\",\n",
            "  \"input\": \"https://www.tiktok.com/@drduyenvn/video/6977367028873055489\",\n",
            "  \"cid\": \"6980661572121854747\",\n",
            "  \"createTime\": 1625311941,\n",
            "  \"createTimeISO\": \"2021-07-03T11:32:21.000Z\",\n",
            "  \"text\": \"da đâu mụn dùng eucerin ổn kh ạ\",\n",
            "  \"diggCount\": 1,\n",
            "  \"likedByAuthor\": false,\n",
            "  \"pinnedByAuthor\": false,\n",
            "  \"repliesToId\": null,\n",
            "  \"replyCommentTotal\": 0,\n",
            "  \"uid\": \"6733177592789189633\",\n",
            "  \"uniqueId\": \"huendeyyy_01\",\n",
            "  \"avatarThumbnail\": \"https://p16-sign-sg.tiktokcdn.com/tos-alisg-avt-0068/41d0c2183c1cc321ab2e0d1f5781c90f~tplv-tiktokx-cropcenter:100:100.jpg?dr=14579&refresh_token=f19b3135&x-expires=1746212400&x-signature=Y9EAr0axiVwfhfbcL991uKk6bGY%3D&t=4d5b0474&ps=13740610&shp=30310797&shcp=ff37627b&idc=maliva\"\n",
            "}\n"
          ]
        }
      ]
    },
    {
      "cell_type": "code",
      "source": [
        "# Xác định các trường (cột) cần ghi - giả sử tất cả comment có cùng keys\n",
        "output_path = folder + '/Data/Big Data/all_comments.csv'\n",
        "fieldnames = list(all_comments[0].keys()) if all_comments else []\n",
        "\n",
        "with open(output_path, 'w', newline='', encoding='utf-8') as csvfile:\n",
        "    writer = csv.DictWriter(csvfile, fieldnames=fieldnames, quoting=csv.QUOTE_ALL)  # 👈 dùng QUOTE_ALL\n",
        "    writer.writeheader()\n",
        "    for comment in all_comments:\n",
        "        writer.writerow(comment)\n",
        "\n",
        "print(f\"\\n✅ Đã lưu {len(all_comments)} comments vào file CSV: {output_path}\")"
      ],
      "metadata": {
        "colab": {
          "base_uri": "https://localhost:8080/"
        },
        "id": "jvTisLFrAphv",
        "outputId": "f32ad960-651c-4f22-caca-50f3ca2b3654"
      },
      "execution_count": 6,
      "outputs": [
        {
          "output_type": "stream",
          "name": "stdout",
          "text": [
            "\n",
            "✅ Đã lưu 13007 comments vào file CSV: /content/drive/MyDrive/Colab Notebooks/Data/Big Data/all_comments.csv\n"
          ]
        }
      ]
    },
    {
      "cell_type": "code",
      "source": [
        "# videos_data\n",
        "videos_data_path = folder + '/Data/Big Data/video_data'\n",
        "all_videos = []\n",
        "seen_video_ids = set()  # để loại bỏ trùng lặp"
      ],
      "metadata": {
        "id": "Vu9xJy2UArgv"
      },
      "execution_count": 7,
      "outputs": []
    },
    {
      "cell_type": "code",
      "source": [
        "def is_vi_or_en(video):\n",
        "    lang = video.get(\"textLanguage\", \"\").lower()\n",
        "    text = video.get(\"text\", \"\").lower()\n",
        "    return (\n",
        "        lang in [\"vi\", \"en\"]\n",
        "        or \"tiếng việt\" in text or \"tieng viet\" in text\n",
        "        or \"english\" in text\n",
        "    )"
      ],
      "metadata": {
        "id": "eKOlK_mBAt88"
      },
      "execution_count": 8,
      "outputs": []
    },
    {
      "cell_type": "code",
      "source": [
        "# Đọc toàn bộ videos từ tất cả các file\n",
        "for filename in sorted(os.listdir(videos_data_path)):\n",
        "    if filename.endswith(\".json\"):\n",
        "        filepath = os.path.join(videos_data_path, filename)\n",
        "        with open(filepath, \"r\", encoding=\"utf-8\") as f:\n",
        "            try:\n",
        "                data = json.load(f)\n",
        "                if isinstance(data, list):\n",
        "                    for video in data:\n",
        "                        vid_id = video.get(\"id\")\n",
        "                        if vid_id and vid_id not in seen_video_ids and is_vi_or_en(video):\n",
        "                            all_videos.append(video)\n",
        "                            seen_video_ids.add(vid_id)\n",
        "            except json.JSONDecodeError as e:\n",
        "                print(f\"Lỗi JSON trong file {filename}: {e}\")"
      ],
      "metadata": {
        "id": "ZtL-YbEBAv4I"
      },
      "execution_count": 9,
      "outputs": []
    },
    {
      "cell_type": "code",
      "source": [
        "# Hiển thị 10 video đầu tiên để kiểm tra\n",
        "for i, video in enumerate(all_videos[:10], start=1):\n",
        "    print(f\"\\n--- Video {i} ---\")\n",
        "    print(f\"ID: {video.get('id')}\")\n",
        "    print(f\"Text: {video.get('text')}\")\n",
        "    print(f\"Language: {video.get('textLanguage')}\")\n",
        "    print(f\"Author: {video.get('authorMeta', {}).get('name')}\")\n",
        "    print(f\"Created At (ISO): {video.get('createTimeISO')}\")\n"
      ],
      "metadata": {
        "colab": {
          "base_uri": "https://localhost:8080/"
        },
        "collapsed": true,
        "id": "YCKlCYJzAx74",
        "outputId": "b2b9a3a3-6afc-4c8d-f7ad-1919d574154e"
      },
      "execution_count": 10,
      "outputs": [
        {
          "output_type": "stream",
          "name": "stdout",
          "text": [
            "\n",
            "--- Video 1 ---\n",
            "ID: 7312825448096976130\n",
            "Text: Đã hiểu vì sao em này hot quá trời rồi🤩🤩✨✨#thupear_review  #learnontiktok #reviewlamdep #goclamdep #beautytok \n",
            "Language: vi\n",
            "Author: thupear.review\n",
            "Created At (ISO): 2023-12-15T14:17:41.000Z\n",
            "\n",
            "--- Video 2 ---\n",
            "ID: 7362154006543600914\n",
            "Text: đúng là tình đầu là tình khó phai, bao nhiêu năm vẫn rất iu @Anessa Official Store 💙 #ANESSABlink \n",
            "Language: vi\n",
            "Author: sabrina.uyenluu\n",
            "Created At (ISO): 2024-04-26T12:37:41.000Z\n",
            "\n",
            "--- Video 3 ---\n",
            "ID: 7275693682966203650\n",
            "Text: Lỗi tại tui lỗi tại tui :((( #linhchuoi #trending #review #anessa #kemchongnang \n",
            "Language: vi\n",
            "Author: linhchuoi.2000\n",
            "Created At (ISO): 2023-09-06T12:47:27.000Z\n",
            "\n",
            "--- Video 4 ---\n",
            "ID: 7460858485178240274\n",
            "Text: Kem chống nắng nhưng lại có tác dụng nuôi dưỡng- ngăn lão hoá- nâng tone đẹp nè mọi người ơi #AnessaVN #anessadayserum #hoalinh944 #longervideos \n",
            "Language: vi\n",
            "Author: hoalinh944\n",
            "Created At (ISO): 2025-01-17T12:21:27.000Z\n",
            "\n",
            "--- Video 5 ---\n",
            "ID: 7265646289428204807\n",
            "Text: Kem chống nắng dành cho da treatment #treatment #kemchongnang #longvideo #duocsithanhha #dsthanhha #xuhuong\n",
            "Language: vi\n",
            "Author: duocsithanhha.skinstudio\n",
            "Created At (ISO): 2023-08-10T13:00:00.000Z\n",
            "\n",
            "--- Video 6 ---\n",
            "ID: 7198521103491370266\n",
            "Text: Kem Chống Nắng #Anessa Tone Up Brightening UV Sunscreen Gel SPF50+ PA++++ #minmincm #cosmetics #shopxuhuong #kcn \n",
            "Language: vi\n",
            "Author: minmin_cosmetics\n",
            "Created At (ISO): 2023-02-10T13:38:28.000Z\n",
            "\n",
            "--- Video 7 ---\n",
            "ID: 7447386636293262599\n",
            "Text: Kem Chống Nắng Anessa Costco #costcotaiwan💁‍♀️🇹🇼 #chuyenhangcostcotaiwan #rubyintaiwan #sansalegiare #muahangho #nguoivietnamtaidailoan🇻🇳🇹🇼 #costco #kemchongnang #kemchongnanganessa \n",
            "Language: vi\n",
            "Author: rubytyty.tw\n",
            "Created At (ISO): 2024-12-12T05:03:48.000Z\n",
            "\n",
            "--- Video 8 ---\n",
            "ID: 7312446048566316295\n",
            "Text: Không ngờ em chống nắng hồng này nó thoa cũng xinh ra phết 😆 #withbimm #kcn #kemchongnang #goclamdep #reviewlamdep #skincaretips #chamsocda #dcgr #anessa #anessamild #danhaycam  \n",
            "Language: vi\n",
            "Author: tran_lam18\n",
            "Created At (ISO): 2023-12-14T13:45:24.000Z\n",
            "\n",
            "--- Video 9 ---\n",
            "ID: 7386279527183322386\n",
            "Text: Trả lời @Chị Ken kem chống nắng  anessa hồng #anessa #kemchongnangnangtone \n",
            "Language: vi\n",
            "Author: depcungemm\n",
            "Created At (ISO): 2024-06-30T12:56:59.000Z\n",
            "\n",
            "--- Video 10 ---\n",
            "ID: 7169427812015688986\n",
            "Text: 🦋 Dùng sao Busi nói vậy à, nên đó là trải nghiệm cá nhân, có bạn nào có trải nghiệm khác không? #phunu #lamdep #xuhuong #congai #fyp \n",
            "Language: vi\n",
            "Author: nguyet.busi\n",
            "Created At (ISO): 2022-11-24T04:01:38.000Z\n"
          ]
        }
      ]
    },
    {
      "cell_type": "code",
      "source": [
        "# ✅ Thu thập tất cả các fieldnames từ toàn bộ videos\n",
        "fieldnames_set = set()\n",
        "for video in all_videos:\n",
        "    fieldnames_set.update(video.keys())\n",
        "fieldnames = sorted(fieldnames_set)  # Sắp xếp cho dễ kiểm soát"
      ],
      "metadata": {
        "id": "kw0EweWwAzbh"
      },
      "execution_count": 11,
      "outputs": []
    },
    {
      "cell_type": "code",
      "source": [
        "# Xác định các trường (cột) cần ghi - giả sử tất cả videos có cùng keys\n",
        "videos_output_path = '/content/drive/MyDrive/Colab Notebooks/Data/Big Data/all_videos.csv'\n",
        "\n",
        "# Xuất ra CSV\n",
        "with open(videos_output_path, mode=\"w\", newline=\"\", encoding=\"utf-8\") as csvfile:\n",
        "    writer = csv.DictWriter(csvfile, fieldnames=fieldnames, quoting=csv.QUOTE_ALL)\n",
        "    writer.writeheader()\n",
        "    for video in all_videos:\n",
        "        writer.writerow(video)\n",
        "\n",
        "print(f\"✅ Đã xuất {len(all_videos)} video vào file: {videos_output_path}\")"
      ],
      "metadata": {
        "colab": {
          "base_uri": "https://localhost:8080/"
        },
        "id": "ezmw8Ie9A10G",
        "outputId": "a13fa2a8-d527-4b06-9c7d-f695fd1f5b67"
      },
      "execution_count": 12,
      "outputs": [
        {
          "output_type": "stream",
          "name": "stdout",
          "text": [
            "✅ Đã xuất 309 video vào file: /content/drive/MyDrive/Colab Notebooks/Data/Big Data/all_videos.csv\n"
          ]
        }
      ]
    },
    {
      "cell_type": "markdown",
      "source": [
        "# **EDA với PySpark**"
      ],
      "metadata": {
        "id": "sCKxS1O7D7wM"
      }
    },
    {
      "cell_type": "code",
      "source": [
        "!pip install pyspark\n",
        "from pyspark.sql import SparkSession"
      ],
      "metadata": {
        "colab": {
          "base_uri": "https://localhost:8080/"
        },
        "id": "miCCEbjuD7bZ",
        "outputId": "b3b7a86e-4194-46e6-8a83-95603b85c3ad"
      },
      "execution_count": 13,
      "outputs": [
        {
          "output_type": "stream",
          "name": "stdout",
          "text": [
            "Requirement already satisfied: pyspark in /usr/local/lib/python3.11/dist-packages (3.5.1)\n",
            "Requirement already satisfied: py4j==0.10.9.7 in /usr/local/lib/python3.11/dist-packages (from pyspark) (0.10.9.7)\n"
          ]
        }
      ]
    },
    {
      "cell_type": "code",
      "source": [
        "from pyspark.sql.functions import col, avg, sum, count, from_json, explode, regexp_extract, split, trim, lower, regexp_replace, when, desc\n",
        "from pyspark.sql.types import ArrayType, StructType, StructField, StringType, IntegerType\n",
        "from pyspark.sql import functions as F\n",
        "\n",
        "import matplotlib.pyplot as plt"
      ],
      "metadata": {
        "id": "JNTj_yQqER7v"
      },
      "execution_count": 14,
      "outputs": []
    },
    {
      "cell_type": "code",
      "source": [
        "spark = SparkSession.builder.appName(\"TikTok EDA\").getOrCreate()"
      ],
      "metadata": {
        "id": "AN4SEVhvEV00"
      },
      "execution_count": 15,
      "outputs": []
    },
    {
      "cell_type": "code",
      "source": [
        "# videos_df = spark.read.option(\"header\", True).csv(\"/content/drive/MyDrive/UEH/Dữ liệu lớn và ứng dụng/Big Data - Đồ án/all_videos.csv\", inferSchema=True)\n",
        "videos_df = spark.read.option(\"header\", True).option(\"multiLine\", True).option(\"quote\", '\"').option(\"escape\", '\"').option(\"mode\", \"PERMISSIVE\").csv('/content/drive/MyDrive/Colab Notebooks/Data/Big Data/all_videos.csv')\n",
        "comments_df = spark.read.option(\"header\", True).option(\"multiLine\", True).option(\"quote\", '\"').option(\"escape\", '\"').option(\"mode\", \"PERMISSIVE\").csv('/content/drive/MyDrive/Colab Notebooks/Data/Big Data/all_comments.csv')"
      ],
      "metadata": {
        "id": "GPrZ-axmEXy-"
      },
      "execution_count": 16,
      "outputs": []
    },
    {
      "cell_type": "code",
      "source": [
        "comments_df.printSchema()"
      ],
      "metadata": {
        "colab": {
          "base_uri": "https://localhost:8080/"
        },
        "collapsed": true,
        "id": "QTewqyoxEt6s",
        "outputId": "f25a2c17-03fe-4570-f2e7-8456e77ed2ce"
      },
      "execution_count": 17,
      "outputs": [
        {
          "output_type": "stream",
          "name": "stdout",
          "text": [
            "root\n",
            " |-- videoWebUrl: string (nullable = true)\n",
            " |-- submittedVideoUrl: string (nullable = true)\n",
            " |-- input: string (nullable = true)\n",
            " |-- cid: string (nullable = true)\n",
            " |-- createTime: string (nullable = true)\n",
            " |-- createTimeISO: string (nullable = true)\n",
            " |-- text: string (nullable = true)\n",
            " |-- diggCount: string (nullable = true)\n",
            " |-- likedByAuthor: string (nullable = true)\n",
            " |-- pinnedByAuthor: string (nullable = true)\n",
            " |-- repliesToId: string (nullable = true)\n",
            " |-- replyCommentTotal: string (nullable = true)\n",
            " |-- uid: string (nullable = true)\n",
            " |-- uniqueId: string (nullable = true)\n",
            " |-- avatarThumbnail: string (nullable = true)\n",
            "\n"
          ]
        }
      ]
    },
    {
      "cell_type": "code",
      "source": [
        "videos_df.show()"
      ],
      "metadata": {
        "colab": {
          "base_uri": "https://localhost:8080/"
        },
        "collapsed": true,
        "id": "DVWhrQPBEyO7",
        "outputId": "ac494ec1-641b-4896-a59e-d8f666e5853a"
      },
      "execution_count": 18,
      "outputs": [
        {
          "output_type": "stream",
          "name": "stdout",
          "text": [
            "+--------------------+------------+------------+----------+--------------------+--------------------+---------+--------------+--------------------+-------------------+-----+-------+--------+-----------+--------------------+--------------------+--------------------+--------------------+---------+--------------------+----------+--------------------+------------+--------------------+--------------------+\n",
            "|          authorMeta|collectCount|commentCount|createTime|       createTimeISO|    detailedMentions|diggCount|effectStickers|            hashtags|                 id| isAd|isMuted|isPinned|isSlideshow|        locationMeta|           mediaUrls|            mentions|           musicMeta|playCount|         searchQuery|shareCount|                text|textLanguage|           videoMeta|         webVideoUrl|\n",
            "+--------------------+------------+------------+----------+--------------------+--------------------+---------+--------------+--------------------+-------------------+-----+-------+--------+-----------+--------------------+--------------------+--------------------+--------------------+---------+--------------------+----------+--------------------+------------+--------------------+--------------------+\n",
            "|{'id': '702898153...|         956|         529|1702649861|2023-12-15T14:17:...|                  []|     9125|            []|[{'id': '70373454...|7312825448096976130|False|  False|   False|      False|                NULL|['https://api.api...|                  []|{'musicName': 'Mơ...|   902700|kem chống nắng an...|       875|Đã hiểu vì sao em...|          vi|{'height': 1024, ...|https://www.tikto...|\n",
            "|{'id': '720028877...|        2983|         256|1714135061|2024-04-26T12:37:...|[{'id': '69434293...|   111500|            []|[{'id': '', 'name...|7362154006543600914|False|  False|   False|      False|                NULL|['https://api.api...|['@Anessa Officia...|{'musicName': 'or...|  1600000|kem chống nắng an...|       350|đúng là tình đầu ...|          vi|{'height': 1024, ...|https://www.tikto...|\n",
            "|{'id': '679407811...|         144|         257|1694004447|2023-09-06T12:47:...|                  []|     1478|            []|[{'id': '16768013...|7275693682966203650|False|  False|   False|      False|                NULL|['https://api.api...|                  []|{'musicName': 'nh...|   237200|kem chống nắng an...|       154|Lỗi tại tui lỗi t...|          vi|{'height': 1024, ...|https://www.tikto...|\n",
            "|{'id': '707293467...|          78|          45|1737116487|2025-01-17T12:21:...|                  []|      735|            []|[{'id': '16683971...|7460858485178240274|False|  False|   False|      False|                NULL|['https://api.api...|                  []|{'musicName': 'nh...|    51400|kem chống nắng an...|        38|Kem chống nắng nh...|          vi|{'height': 1024, ...|https://www.tikto...|\n",
            "|{'id': '697384805...|         133|          47|1691672400|2023-08-10T13:00:...|                  []|      788|            []|[{'id': '109028',...|7265646289428204807|False|  False|   False|      False|                NULL|['https://api.api...|                  []|{'musicName': 'nh...|   123000|kem chống nắng an...|        51|Kem chống nắng dà...|          vi|{'height': 1024, ...|https://www.tikto...|\n",
            "|{'id': '712547251...|          23|          10|1676036308|2023-02-10T13:38:...|                  []|      150|            []|[{'id': '1921535'...|7198521103491370266|False|  False|   False|      False|                NULL|['https://api.api...|                  []|{'musicName': 'nh...|    64300|kem chống nắng an...|        72|Kem Chống Nắng #A...|          vi|{'height': 1024, ...|https://www.tikto...|\n",
            "|{'id': '686000555...|           6|          12|1733979828|2024-12-12T05:03:...|                  []|       17|            []|[{'id': '16962157...|7447386636293262599|False|  False|   False|      False|                NULL|['https://api.api...|                  []|{'musicName': 'nh...|     9402|kem chống nắng an...|        16|Kem Chống Nắng An...|          vi|{'height': 1024, ...|https://www.tikto...|\n",
            "|{'id': '677108512...|        1250|         835|1702561524|2023-12-14T13:45:...|                  []|    10000|            []|[{'id': '16895638...|7312446048566316295|False|  False|   False|      False|                NULL|['https://api.api...|                  []|{'musicName': 'Ve...|   803900|kem chống nắng an...|       366|Không ngờ em chốn...|          vi|{'height': 1024, ...|https://www.tikto...|\n",
            "|{'id': '712118028...|           6|           4|1719752219|2024-06-30T12:56:...|[{'id': '70612244...|       38|            []|[{'id': '', 'name...|7386279527183322386|False|  False|   False|      False|                NULL|['https://api.api...|        ['@Chị Ken']|{'musicName': 'nh...|    11300|kem chống nắng an...|         6|Trả lời @Chị Ken ...|          vi|{'height': 1024, ...|https://www.tikto...|\n",
            "|{'id': '700078998...|          91|          36|1669262498|2022-11-24T04:01:...|                  []|      647|            []|[{'id': '16012520...|7169427812015688986|False|  False|   False|      False|                NULL|['https://api.api...|                  []|{'musicName': 'Co...|   148400|kem chống nắng an...|        41|🦋 Dùng sao Busi ...|          vi|{'height': 1024, ...|https://www.tikto...|\n",
            "|{'id': '692192404...|        2247|         104|1713233028|2024-04-16T02:03:...|[{'id': '73417468...|     5000|            []|[{'id': '', 'name...|7358279810860207365|False|  False|   False|      False|                NULL|['https://api.api...|['@Anessa Philipp...|{'musicName': 'or...|   245500|kem chống nắng an...|       539|spreading the @An...|          en|{'height': 1024, ...|https://www.tikto...|\n",
            "|{'id': '674132594...|         111|          15|1742962688|2025-03-26T04:18:...|                  []|     1232|            []|[{'id': '1921535'...|7485967720467549448|False|  False|   False|      False|                NULL|['https://api.api...|                  []|{'musicName': 'nh...|   124700|kem chống nắng an...|       101|Kem chống nắng an...|          vi|{'height': 1024, ...|https://www.tikto...|\n",
            "|{'id': '675458465...|          12|          24|1743312719|2025-03-30T05:31:...|                  []|      313|            []|[{'id': '16436164...|7487471073894616326|False|  False|   False|      False|                NULL|['https://api.api...|                  []|{'musicName': 'nh...|    18500|kem chống nắng an...|        17|Hôm nay cùng Thái...|          vi|{'height': 1024, ...|https://www.tikto...|\n",
            "|{'id': '695024971...|          66|          63|1724046189|2024-08-19T05:43:...|[{'id': '71743192...|      505|            []|[{'id': '', 'name...|7404721959348620560|False|  False|   False|      False|                NULL|['https://api.api...|      ['@Lynh Lynh']|{'musicName': 'nh...|    43000|kem chống nắng an...|        11|Trả lời @Lynh Lyn...|          vi|{'height': 1024, ...|https://www.tikto...|\n",
            "|{'id': '723686084...|          51|          10|1732122973|2024-11-20T17:16:...|[{'id': '67837610...|      190|            []|[{'id': '', 'name...|7439411489494093099|False|  False|   False|      False|                NULL|['https://api.api...|       ['@SHISEIDO']|{'musicName': 'so...|    57300|kem chống nắng an...|        67|@SHISEIDO Anessa ...|          en|{'height': 1024, ...|https://www.tikto...|\n",
            "|{'id': '739254142...|           1|           2|1721306838|2024-07-18T12:47:...|                  []|       14|            []|[{'id': '370921',...|7392956565617184007|False|  False|   False|      False|{'address': 'Viet...|['https://api.api...|                  []|{'musicName': 'nh...|     3764|kem chống nắng an...|         1|Kem chống nắng An...|          vi|{'height': 1024, ...|https://www.tikto...|\n",
            "|{'id': '663656725...|         159|          60|1666093040|2022-10-18T11:37:...|                  []|     1202|            []|[{'id': '17006427...|7155814301457075482|False|  False|   False|      False|                NULL|['https://api.api...|                  []|{'musicName': \"Ch...|   153300|kem chống nắng an...|       131|Kem chống nắng ch...|          vi|{'height': 1024, ...|https://www.tikto...|\n",
            "|{'id': '730166696...|          13|          16|1702292595|2023-12-11T11:03:...|                  []|       74|            []|[{'id': '16044964...|7311291005154643205|False|  False|   False|      False|                NULL|['https://api.api...|                  []|{'musicName': 'So...|    10800|kem chống nắng an...|       150|Unbox kem chống n...|          vi|{'height': 1024, ...|https://www.tikto...|\n",
            "|{'id': '681616612...|          15|         122|1706285544|2024-01-26T16:12:...|                  []|      514|            []|[{'id': '17022461...|7328440584836762888|False|  False|   False|      False|                NULL|['https://api.api...|                  []|{'musicName': 'Pa...|    44600|kem chống nắng an...|        17|KCN Anessa bị cay...|          vi|{'height': 1024, ...|https://www.tikto...|\n",
            "|{'id': '725925774...|          12|          20|1725162206|2024-09-01T03:43:...|                  []|      126|            []|[{'id': '72582147...|7409515224140713223|False|  False|   False|      False|                NULL|['https://api.api...|                  []|{'musicName': 'nh...|    11600|kem chống nắng an...|         3|Test độ bám kem c...|          vi|{'height': 1024, ...|https://www.tikto...|\n",
            "+--------------------+------------+------------+----------+--------------------+--------------------+---------+--------------+--------------------+-------------------+-----+-------+--------+-----------+--------------------+--------------------+--------------------+--------------------+---------+--------------------+----------+--------------------+------------+--------------------+--------------------+\n",
            "only showing top 20 rows\n",
            "\n"
          ]
        }
      ]
    },
    {
      "cell_type": "code",
      "source": [
        "comments_df.show()"
      ],
      "metadata": {
        "colab": {
          "base_uri": "https://localhost:8080/"
        },
        "collapsed": true,
        "id": "OcI0el6JE0E6",
        "outputId": "bb02d6a9-0914-47e1-e7c7-20f92c47d1f3"
      },
      "execution_count": 19,
      "outputs": [
        {
          "output_type": "stream",
          "name": "stdout",
          "text": [
            "+--------------------+--------------------+--------------------+-------------------+----------+--------------------+--------------------+---------+-------------+--------------+-----------+-----------------+-------------------+----------------+--------------------+\n",
            "|         videoWebUrl|   submittedVideoUrl|               input|                cid|createTime|       createTimeISO|                text|diggCount|likedByAuthor|pinnedByAuthor|repliesToId|replyCommentTotal|                uid|        uniqueId|     avatarThumbnail|\n",
            "+--------------------+--------------------+--------------------+-------------------+----------+--------------------+--------------------+---------+-------------+--------------+-----------+-----------------+-------------------+----------------+--------------------+\n",
            "|https://www.tikto...|https://www.tikto...|https://www.tikto...|6978487559790527233|1624805757|2021-06-27T14:55:...|Cảm ơn bác sĩ chị...|        1|         True|         False|       NULL|                2|6761019601562387457|    minhhien3823|https://p16-sign-...|\n",
            "|https://www.tikto...|https://www.tikto...|https://www.tikto...|6977749499381121793|1624633914|2021-06-25T15:11:...|Có loại kcn vật l...|        3|         True|         False|       NULL|                1|6632594423325081602|   tuyetphan1304|https://p16-sign-...|\n",
            "|https://www.tikto...|https://www.tikto...|https://www.tikto...|6980963679337005851|1625382280|2021-07-04T07:04:...|dùng laros toàn đ...|        2|        False|         False|       NULL|                1|6829700150342452225|     binh.t.pham|https://p16-sign-...|\n",
            "|https://www.tikto...|https://www.tikto...|https://www.tikto...|6977385265648173826|1624549108|2021-06-24T15:38:...|Da dầu thì sài sữ...|        2|         True|         False|       NULL|                1|6688178827048649729|        ngpu0110|https://p16-sign-...|\n",
            "|https://www.tikto...|https://www.tikto...|https://www.tikto...|6977383620424762138|1624548769|2021-06-24T15:32:...|còn kem chống nắn...|        4|         True|         False|       NULL|                0|6575418490651672577|      trngan2209|https://p16-sign-...|\n",
            "|https://www.tikto...|https://www.tikto...|https://www.tikto...|6980928297367257882|1625374043|2021-07-04T04:47:...|chị ơi e da dầu m...|        2|        False|         False|       NULL|                0|6612087094297034753|        huupuc11|https://p16-sign-...|\n",
            "|https://www.tikto...|https://www.tikto...|https://www.tikto...|6977600660372554497|1624599262|2021-06-25T05:34:...|cô ơi test sữa rử...|        2|        False|         False|       NULL|                0|6854111250826658817|      hyphuong12|https://p16-sign-...|\n",
            "|https://www.tikto...|https://www.tikto...|https://www.tikto...|6990764291179905818|1627664162|2021-07-30T16:56:...|E lan dau xài kcn...|        1|        False|         False|       NULL|                0|        68042623127|     im.huong29_|https://p16-sign-...|\n",
            "|https://www.tikto...|https://www.tikto...|https://www.tikto...|6981463448757191450|1625498641|2021-07-05T15:24:...|chị ơi e da dầu d...|        1|        False|         False|       NULL|                0|6861503524477191170|22062020quynhchi|https://p16-sign-...|\n",
            "|https://www.tikto...|https://www.tikto...|https://www.tikto...|6980661572121854747|1625311941|2021-07-03T11:32:...|da đâu mụn dùng e...|        1|        False|         False|       NULL|                0|6733177592789189633|    huendeyyy_01|https://p16-sign-...|\n",
            "|https://www.tikto...|https://www.tikto...|https://www.tikto...|6979129336007852802|1624955182|2021-06-29T08:26:...|Cô review srm trà...|        1|        False|         False|       NULL|                0|6702716729087181825|      gumiho0102|https://p16-sign-...|\n",
            "|https://www.tikto...|https://www.tikto...|https://www.tikto...|6977945322748478209|1624679510|2021-06-26T03:51:...|da thường thì xài...|        1|        False|         False|       NULL|                0|6933453439852119042|    chuthu111607|https://p16-sign-...|\n",
            "|https://www.tikto...|https://www.tikto...|https://www.tikto...|7042487303478330114|1639706869|2021-12-17T02:07:...|         mua ở đâu c|        0|        False|         False|       NULL|                0|7022815865822004226|     leduyen38b1|https://p16-sign-...|\n",
            "|https://www.tikto...|https://www.tikto...|https://www.tikto...|7040232429055410945|1639181871|2021-12-11T00:17:...|bác sĩ làm clip r...|        0|        False|         False|       NULL|                0|7006476149749269505|    thu_nhi_2206|https://p16-sign-...|\n",
            "|https://www.tikto...|https://www.tikto...|https://www.tikto...|7015880551966327578|1633511994|2021-10-06T09:19:...|Vichy e muốn khóc...|        0|        False|         False|       NULL|                0|6640201136861544450|     doanlinh435|https://p16-sign-...|\n",
            "|https://www.tikto...|https://www.tikto...|https://www.tikto...|7012420241431184154|1632706328|2021-09-27T01:32:...|Cô ơi kcn laroche...|        0|        False|         False|       NULL|                0|6553016504908218370|        naviels1|https://p16-sign-...|\n",
            "|https://www.tikto...|https://www.tikto...|https://www.tikto...|7010237850784662273|1632198203|2021-09-21T04:23:...|Da khô xài loại c...|        0|        False|         False|       NULL|                0|7004588168265073665|     chennchen86|https://p16-sign-...|\n",
            "|https://www.tikto...|https://www.tikto...|https://www.tikto...|7009300196111336193|1631979884|2021-09-18T15:44:...|Da hhtd ít mụn mà...|        0|        False|         False|       NULL|                0|6552639789862387714|       thaoan.94|https://p16-sign-...|\n",
            "|https://www.tikto...|https://www.tikto...|https://www.tikto...|7008426021674664730|1631776351|2021-09-16T07:12:...|biodermar không k...|        0|        False|         False|       NULL|                0|6605822870475063298| huyenhuyen99991|https://p16-sign-...|\n",
            "|https://www.tikto...|https://www.tikto...|https://www.tikto...|6998492825595675418|1629463595|2021-08-20T12:46:...|Trong mấy loại nà...|        0|        False|         False|       NULL|                0|6822605069981647873|   hathunguyen93|https://p16-sign-...|\n",
            "+--------------------+--------------------+--------------------+-------------------+----------+--------------------+--------------------+---------+-------------+--------------+-----------+-----------------+-------------------+----------------+--------------------+\n",
            "only showing top 20 rows\n",
            "\n"
          ]
        }
      ]
    },
    {
      "cell_type": "code",
      "source": [
        "videos_df.describe().show()"
      ],
      "metadata": {
        "colab": {
          "base_uri": "https://localhost:8080/"
        },
        "collapsed": true,
        "id": "ThY6tInsE1sm",
        "outputId": "6d958e31-8552-43c1-91a9-946b7fea675e"
      },
      "execution_count": 20,
      "outputs": [
        {
          "output_type": "stream",
          "name": "stdout",
          "text": [
            "+-------+--------------------+------------------+-----------------+--------------------+--------------------+--------------------+------------------+--------------------+--------------------+--------------------+-----+-------+--------+-----------+--------------------+--------------------+--------------------+---------------------+-----------------+--------------------+------------------+--------------------+------------+--------------------+--------------------+\n",
            "|summary|          authorMeta|      collectCount|     commentCount|          createTime|       createTimeISO|    detailedMentions|         diggCount|      effectStickers|            hashtags|                  id| isAd|isMuted|isPinned|isSlideshow|        locationMeta|           mediaUrls|            mentions|            musicMeta|        playCount|         searchQuery|        shareCount|                text|textLanguage|           videoMeta|         webVideoUrl|\n",
            "+-------+--------------------+------------------+-----------------+--------------------+--------------------+--------------------+------------------+--------------------+--------------------+--------------------+-----+-------+--------+-----------+--------------------+--------------------+--------------------+---------------------+-----------------+--------------------+------------------+--------------------+------------+--------------------+--------------------+\n",
            "|  count|                 309|               309|              309|                 309|                 309|                 309|               309|                 309|                 309|                 309|  309|    309|     309|        309|                  27|                 309|                 309|                  309|              309|                 309|               309|                 309|         309|                 309|                 309|\n",
            "|   mean|                NULL|1922.1423948220065|316.9935275080906|1.7134821276601942E9|                NULL|                NULL|20356.168284789645|                NULL|                NULL|7.359342864691018...| NULL|   NULL|    NULL|       NULL|                NULL|                NULL|                NULL|                 NULL|789773.2556634304|                NULL| 523.8737864077669|                NULL|        NULL|                NULL|                NULL|\n",
            "| stddev|                NULL| 6685.136330612759|823.3936032858139|3.0847442071910113E7|                NULL|                NULL| 73576.72227803692|                NULL|                NULL|1.324834495585293...| NULL|   NULL|    NULL|       NULL|                NULL|                NULL|                NULL|                 NULL|2327024.561340124|                NULL|1770.4529760803919|                NULL|        NULL|                NULL|                NULL|\n",
            "|    min|{'id': '122393159...|                 0|                0|          1601475088|2020-09-30T14:11:...|                  []|                10|                  []|                  []| 6878283120559410434|False|  False|   False|      False|{'address': '116 ...|['https://api.api...|[\"@L'oreal Paris ...| {'musicName': \"Ch...|          1000000|        kcn la roche|                 0|\"Chống nắng cực đ...|          en|{'height': 1024, ...|https://www.tikto...|\n",
            "|    max|{'id': '862327681...|                96|               97|          1746114677|2025-05-01T15:51:...|[{'id': '74392716...|              9900|[{'name': 'natura...|[{'id': '8464619'...| 7499505279512415518| True|  False|   False|      False|{'address': 'Đườn...|['https://api.api...|                  []|{'musicName': '이 ...|            98700|sunplay skin aqua...|                99|🦋 Dùng sao Busi ...|          vi|{'height': 998, '...|https://www.tikto...|\n",
            "+-------+--------------------+------------------+-----------------+--------------------+--------------------+--------------------+------------------+--------------------+--------------------+--------------------+-----+-------+--------+-----------+--------------------+--------------------+--------------------+---------------------+-----------------+--------------------+------------------+--------------------+------------+--------------------+--------------------+\n",
            "\n"
          ]
        }
      ]
    },
    {
      "cell_type": "code",
      "source": [
        "comments_df.describe().show()"
      ],
      "metadata": {
        "colab": {
          "base_uri": "https://localhost:8080/"
        },
        "collapsed": true,
        "id": "ifQA0U8vE3C6",
        "outputId": "65330358-6e42-4ca1-a82f-4420d23f9f9c"
      },
      "execution_count": 21,
      "outputs": [
        {
          "output_type": "stream",
          "name": "stdout",
          "text": [
            "+-------+--------------------+--------------------+--------------------+--------------------+-------------------+--------------------+--------------------+------------------+-------------+--------------+--------------------+------------------+--------------------+--------------------+--------------------+\n",
            "|summary|         videoWebUrl|   submittedVideoUrl|               input|                 cid|         createTime|       createTimeISO|                text|         diggCount|likedByAuthor|pinnedByAuthor|         repliesToId| replyCommentTotal|                 uid|            uniqueId|     avatarThumbnail|\n",
            "+-------+--------------------+--------------------+--------------------+--------------------+-------------------+--------------------+--------------------+------------------+-------------+--------------+--------------------+------------------+--------------------+--------------------+--------------------+\n",
            "|  count|               13007|               13007|               13007|               13007|              13007|               13007|               13007|             13007|        13007|         12616|                1851|             11156|               13007|               13007|               13007|\n",
            "|   mean|                NULL|                NULL|                NULL|7.366937438657508...|1.715248872449681E9|                NULL|                 4.0|19.383870223725687|         NULL|          NULL|7.374252878257294...|1.8241305127285765|6.749752946108902...|1.685272000058533E10|                NULL|\n",
            "| stddev|                NULL|                NULL|                NULL|1.314569117303795...|3.060719760673497E7|                NULL|                NULL| 324.7651302802002|         NULL|          NULL|1.225827262606433...| 9.448366105248313|1.264403312564855...|1.494855579954201...|                NULL|\n",
            "|    min|https://www.tikto...|https://www.tikto...|https://www.tikto...| 6878285236388708354|         1601475584|2020-09-30T14:19:...|\" la ne giờ \" đọc...|                 0|        False|         False| 6882315503147778050|                 0|  100216318024355840|           .....anh1|https://lh3.googl...|\n",
            "|    max|https://www.tikto...|https://www.tikto...|https://www.tikto...| 7499567996525495048|         1746129276|2025-05-01T19:54:...|     🫠🫠🫠 mê e ahh|               999|         True|          True| 7499528796229092118|                94|         99872913287|𝑵𝒈𝒖𝒚𝒆𝒏 𝑻𝒉...|https://sf16-pass...|\n",
            "+-------+--------------------+--------------------+--------------------+--------------------+-------------------+--------------------+--------------------+------------------+-------------+--------------+--------------------+------------------+--------------------+--------------------+--------------------+\n",
            "\n"
          ]
        }
      ]
    },
    {
      "cell_type": "code",
      "source": [
        "print(f\"Số lượng videos: {videos_df.count()}\")\n",
        "print(f\"Số lượng comments: {comments_df.count()}\")"
      ],
      "metadata": {
        "colab": {
          "base_uri": "https://localhost:8080/"
        },
        "id": "X1e8Z5dNE4eQ",
        "outputId": "7ef2ddc4-4192-499f-b4a6-9101f35d3e4f"
      },
      "execution_count": 22,
      "outputs": [
        {
          "output_type": "stream",
          "name": "stdout",
          "text": [
            "Số lượng videos: 309\n",
            "Số lượng comments: 13007\n"
          ]
        }
      ]
    },
    {
      "cell_type": "code",
      "source": [
        "# Ép kiểu các cột tương tác trong videos_df\n",
        "cols_to_cast = ['playCount', 'diggCount', 'shareCount', 'commentCount', 'collectCount']\n",
        "for col_name in cols_to_cast:\n",
        "    videos_df = videos_df.withColumn(col_name, F.col(col_name).cast(IntegerType()))\n",
        "\n",
        "# Ép kiểu trong comments_df\n",
        "comments_df = comments_df.withColumn(\"diggCount\", F.col(\"diggCount\").cast(IntegerType()))\n",
        "comments_df = comments_df.withColumn(\"replyCommentTotal\", F.col(\"replyCommentTotal\").cast(IntegerType()))"
      ],
      "metadata": {
        "id": "OEzYGcU_E6Ir"
      },
      "execution_count": 37,
      "outputs": []
    },
    {
      "cell_type": "markdown",
      "source": [
        "# **Mô hình phân loại cảm xúc/quan điểm**"
      ],
      "metadata": {
        "id": "Q0VcUb1FGhtf"
      }
    },
    {
      "cell_type": "markdown",
      "source": [
        "## Gán nhãn dữ liệu cho mô hình phân loại cảm xúc dùng semi-supervised learning"
      ],
      "metadata": {
        "id": "AiS8H5OnGpUl"
      }
    },
    {
      "cell_type": "code",
      "source": [
        "!pip install -Uqq underthesea"
      ],
      "metadata": {
        "id": "18AagsshG9nY"
      },
      "execution_count": 38,
      "outputs": []
    },
    {
      "cell_type": "code",
      "source": [
        "# !wget \"https://docs.google.com/uc?export=download&id=1ddtXoXtQc5hRzj-J6_y0rtoSTfbwrLOP&confirm=t\" -O VI_IMDB.csv\n",
        "# !wget \"https://docs.google.com/uc?export=download&id=1qsNJ6xmXqLg_xQ51-OONNHjYaERsh5RE&confirm=t\" -O vi_word2vec.txt"
      ],
      "metadata": {
        "collapsed": true,
        "id": "eCAQUtnLHAj3"
      },
      "execution_count": 39,
      "outputs": []
    },
    {
      "cell_type": "code",
      "source": [
        "import underthesea\n",
        "from underthesea import sentiment\n",
        "\n",
        "# Hàm gán nhãn dữ liệu phân loại cảm xúc\n",
        "def label_sentiment(text):\n",
        "    try:\n",
        "        result = sentiment(text)\n",
        "        if result == \"positive\":\n",
        "            return \"pos\"\n",
        "        elif result == \"negative\":\n",
        "            return \"neg\"\n",
        "        else:\n",
        "            return \"neu\"\n",
        "    except:\n",
        "        return \"neu\"\n",
        "# Lấy cmt từ Spark về pd\n",
        "comments_pandas = comments_df.select('text').dropna().toPandas()\n",
        "comments_pandas['sentiment'] = comments_pandas['text'].apply(label_sentiment)\n",
        "comments_pandas = comments_pandas.rename(columns={'text': 'vi_review'})\n",
        "\n",
        "# Lưu ra CSV\n",
        "comments_pandas.to_csv('/content/drive/MyDrive/Colab Notebooks/Data/Big Data/tiktok_self_supervised.csv', index=False)\n",
        "print('✅ Đã lưu file: tiktok_self_supervised.csv')"
      ],
      "metadata": {
        "colab": {
          "base_uri": "https://localhost:8080/"
        },
        "id": "lP6tBxd_J8R6",
        "outputId": "34678701-ff85-476f-ddb9-d21d6fed5d24"
      },
      "execution_count": 40,
      "outputs": [
        {
          "output_type": "stream",
          "name": "stdout",
          "text": [
            "✅ Đã lưu file: tiktok_self_supervised.csv\n"
          ]
        }
      ]
    },
    {
      "cell_type": "markdown",
      "source": [
        "### Word tokenizer"
      ],
      "metadata": {
        "id": "1EJ1oYQNNOs4"
      }
    },
    {
      "cell_type": "code",
      "source": [
        "from underthesea import word_tokenize\n",
        "\n",
        "# Tạo cột mới: mỗi bình luận được tách từ và nối lại bằng dấu _\n",
        "comments_pandas[\"tokenized_review\"] = comments_pandas[\"vi_review\"].apply(\n",
        "    lambda x: \" \".join([w.replace(\" \", \"_\") for w in word_tokenize(str(x))])\n",
        ")\n",
        "\n",
        "# Hiển thị 5 dòng đầu để kiểm tra\n",
        "comments_pandas[[\"vi_review\", \"tokenized_review\"]].head()\n"
      ],
      "metadata": {
        "colab": {
          "base_uri": "https://localhost:8080/",
          "height": 206
        },
        "id": "6Tfukln_NSeA",
        "outputId": "89ebbc05-73b1-49b1-878e-61023b3b6a8d"
      },
      "execution_count": 41,
      "outputs": [
        {
          "output_type": "execute_result",
          "data": {
            "text/plain": [
              "                                           vi_review  \\\n",
              "0    Cảm ơn bác sĩ chị đang dùnh la roch thấy ok lắm   \n",
              "1  Có loại kcn vật lý hoặc vật lý lai hoá học kiề...   \n",
              "2  dùng laros toàn để lại ghét k à. bôi xong k tá...   \n",
              "3           Da dầu thì sài sữa rửa mặt nào v chị ???   \n",
              "4       còn kem chống nắng cho da thường thì sao ạ??   \n",
              "\n",
              "                                    tokenized_review  \n",
              "0    Cảm_ơn bác_sĩ chị đang dùnh_la roch thấy ok lắm  \n",
              "1  Có loại kcn vật_lý hoặc vật_lý lai_hóa học kiề...  \n",
              "2  dùng laros toàn để lại ghét k à . bôi xong k_t...  \n",
              "3         Da_dầu thì sài sữa rửa mặt nào v chị ? ? ?  \n",
              "4     còn kem chống nắng cho da thường thì sao ạ ? ?  "
            ],
            "text/html": [
              "\n",
              "  <div id=\"df-9ef68337-88f8-4ce7-ab92-7b6425d11a10\" class=\"colab-df-container\">\n",
              "    <div>\n",
              "<style scoped>\n",
              "    .dataframe tbody tr th:only-of-type {\n",
              "        vertical-align: middle;\n",
              "    }\n",
              "\n",
              "    .dataframe tbody tr th {\n",
              "        vertical-align: top;\n",
              "    }\n",
              "\n",
              "    .dataframe thead th {\n",
              "        text-align: right;\n",
              "    }\n",
              "</style>\n",
              "<table border=\"1\" class=\"dataframe\">\n",
              "  <thead>\n",
              "    <tr style=\"text-align: right;\">\n",
              "      <th></th>\n",
              "      <th>vi_review</th>\n",
              "      <th>tokenized_review</th>\n",
              "    </tr>\n",
              "  </thead>\n",
              "  <tbody>\n",
              "    <tr>\n",
              "      <th>0</th>\n",
              "      <td>Cảm ơn bác sĩ chị đang dùnh la roch thấy ok lắm</td>\n",
              "      <td>Cảm_ơn bác_sĩ chị đang dùnh_la roch thấy ok lắm</td>\n",
              "    </tr>\n",
              "    <tr>\n",
              "      <th>1</th>\n",
              "      <td>Có loại kcn vật lý hoặc vật lý lai hoá học kiề...</td>\n",
              "      <td>Có loại kcn vật_lý hoặc vật_lý lai_hóa học kiề...</td>\n",
              "    </tr>\n",
              "    <tr>\n",
              "      <th>2</th>\n",
              "      <td>dùng laros toàn để lại ghét k à. bôi xong k tá...</td>\n",
              "      <td>dùng laros toàn để lại ghét k à . bôi xong k_t...</td>\n",
              "    </tr>\n",
              "    <tr>\n",
              "      <th>3</th>\n",
              "      <td>Da dầu thì sài sữa rửa mặt nào v chị ???</td>\n",
              "      <td>Da_dầu thì sài sữa rửa mặt nào v chị ? ? ?</td>\n",
              "    </tr>\n",
              "    <tr>\n",
              "      <th>4</th>\n",
              "      <td>còn kem chống nắng cho da thường thì sao ạ??</td>\n",
              "      <td>còn kem chống nắng cho da thường thì sao ạ ? ?</td>\n",
              "    </tr>\n",
              "  </tbody>\n",
              "</table>\n",
              "</div>\n",
              "    <div class=\"colab-df-buttons\">\n",
              "\n",
              "  <div class=\"colab-df-container\">\n",
              "    <button class=\"colab-df-convert\" onclick=\"convertToInteractive('df-9ef68337-88f8-4ce7-ab92-7b6425d11a10')\"\n",
              "            title=\"Convert this dataframe to an interactive table.\"\n",
              "            style=\"display:none;\">\n",
              "\n",
              "  <svg xmlns=\"http://www.w3.org/2000/svg\" height=\"24px\" viewBox=\"0 -960 960 960\">\n",
              "    <path d=\"M120-120v-720h720v720H120Zm60-500h600v-160H180v160Zm220 220h160v-160H400v160Zm0 220h160v-160H400v160ZM180-400h160v-160H180v160Zm440 0h160v-160H620v160ZM180-180h160v-160H180v160Zm440 0h160v-160H620v160Z\"/>\n",
              "  </svg>\n",
              "    </button>\n",
              "\n",
              "  <style>\n",
              "    .colab-df-container {\n",
              "      display:flex;\n",
              "      gap: 12px;\n",
              "    }\n",
              "\n",
              "    .colab-df-convert {\n",
              "      background-color: #E8F0FE;\n",
              "      border: none;\n",
              "      border-radius: 50%;\n",
              "      cursor: pointer;\n",
              "      display: none;\n",
              "      fill: #1967D2;\n",
              "      height: 32px;\n",
              "      padding: 0 0 0 0;\n",
              "      width: 32px;\n",
              "    }\n",
              "\n",
              "    .colab-df-convert:hover {\n",
              "      background-color: #E2EBFA;\n",
              "      box-shadow: 0px 1px 2px rgba(60, 64, 67, 0.3), 0px 1px 3px 1px rgba(60, 64, 67, 0.15);\n",
              "      fill: #174EA6;\n",
              "    }\n",
              "\n",
              "    .colab-df-buttons div {\n",
              "      margin-bottom: 4px;\n",
              "    }\n",
              "\n",
              "    [theme=dark] .colab-df-convert {\n",
              "      background-color: #3B4455;\n",
              "      fill: #D2E3FC;\n",
              "    }\n",
              "\n",
              "    [theme=dark] .colab-df-convert:hover {\n",
              "      background-color: #434B5C;\n",
              "      box-shadow: 0px 1px 3px 1px rgba(0, 0, 0, 0.15);\n",
              "      filter: drop-shadow(0px 1px 2px rgba(0, 0, 0, 0.3));\n",
              "      fill: #FFFFFF;\n",
              "    }\n",
              "  </style>\n",
              "\n",
              "    <script>\n",
              "      const buttonEl =\n",
              "        document.querySelector('#df-9ef68337-88f8-4ce7-ab92-7b6425d11a10 button.colab-df-convert');\n",
              "      buttonEl.style.display =\n",
              "        google.colab.kernel.accessAllowed ? 'block' : 'none';\n",
              "\n",
              "      async function convertToInteractive(key) {\n",
              "        const element = document.querySelector('#df-9ef68337-88f8-4ce7-ab92-7b6425d11a10');\n",
              "        const dataTable =\n",
              "          await google.colab.kernel.invokeFunction('convertToInteractive',\n",
              "                                                    [key], {});\n",
              "        if (!dataTable) return;\n",
              "\n",
              "        const docLinkHtml = 'Like what you see? Visit the ' +\n",
              "          '<a target=\"_blank\" href=https://colab.research.google.com/notebooks/data_table.ipynb>data table notebook</a>'\n",
              "          + ' to learn more about interactive tables.';\n",
              "        element.innerHTML = '';\n",
              "        dataTable['output_type'] = 'display_data';\n",
              "        await google.colab.output.renderOutput(dataTable, element);\n",
              "        const docLink = document.createElement('div');\n",
              "        docLink.innerHTML = docLinkHtml;\n",
              "        element.appendChild(docLink);\n",
              "      }\n",
              "    </script>\n",
              "  </div>\n",
              "\n",
              "\n",
              "    <div id=\"df-b649e778-4200-4ade-b48e-2889bb3a693e\">\n",
              "      <button class=\"colab-df-quickchart\" onclick=\"quickchart('df-b649e778-4200-4ade-b48e-2889bb3a693e')\"\n",
              "                title=\"Suggest charts\"\n",
              "                style=\"display:none;\">\n",
              "\n",
              "<svg xmlns=\"http://www.w3.org/2000/svg\" height=\"24px\"viewBox=\"0 0 24 24\"\n",
              "     width=\"24px\">\n",
              "    <g>\n",
              "        <path d=\"M19 3H5c-1.1 0-2 .9-2 2v14c0 1.1.9 2 2 2h14c1.1 0 2-.9 2-2V5c0-1.1-.9-2-2-2zM9 17H7v-7h2v7zm4 0h-2V7h2v10zm4 0h-2v-4h2v4z\"/>\n",
              "    </g>\n",
              "</svg>\n",
              "      </button>\n",
              "\n",
              "<style>\n",
              "  .colab-df-quickchart {\n",
              "      --bg-color: #E8F0FE;\n",
              "      --fill-color: #1967D2;\n",
              "      --hover-bg-color: #E2EBFA;\n",
              "      --hover-fill-color: #174EA6;\n",
              "      --disabled-fill-color: #AAA;\n",
              "      --disabled-bg-color: #DDD;\n",
              "  }\n",
              "\n",
              "  [theme=dark] .colab-df-quickchart {\n",
              "      --bg-color: #3B4455;\n",
              "      --fill-color: #D2E3FC;\n",
              "      --hover-bg-color: #434B5C;\n",
              "      --hover-fill-color: #FFFFFF;\n",
              "      --disabled-bg-color: #3B4455;\n",
              "      --disabled-fill-color: #666;\n",
              "  }\n",
              "\n",
              "  .colab-df-quickchart {\n",
              "    background-color: var(--bg-color);\n",
              "    border: none;\n",
              "    border-radius: 50%;\n",
              "    cursor: pointer;\n",
              "    display: none;\n",
              "    fill: var(--fill-color);\n",
              "    height: 32px;\n",
              "    padding: 0;\n",
              "    width: 32px;\n",
              "  }\n",
              "\n",
              "  .colab-df-quickchart:hover {\n",
              "    background-color: var(--hover-bg-color);\n",
              "    box-shadow: 0 1px 2px rgba(60, 64, 67, 0.3), 0 1px 3px 1px rgba(60, 64, 67, 0.15);\n",
              "    fill: var(--button-hover-fill-color);\n",
              "  }\n",
              "\n",
              "  .colab-df-quickchart-complete:disabled,\n",
              "  .colab-df-quickchart-complete:disabled:hover {\n",
              "    background-color: var(--disabled-bg-color);\n",
              "    fill: var(--disabled-fill-color);\n",
              "    box-shadow: none;\n",
              "  }\n",
              "\n",
              "  .colab-df-spinner {\n",
              "    border: 2px solid var(--fill-color);\n",
              "    border-color: transparent;\n",
              "    border-bottom-color: var(--fill-color);\n",
              "    animation:\n",
              "      spin 1s steps(1) infinite;\n",
              "  }\n",
              "\n",
              "  @keyframes spin {\n",
              "    0% {\n",
              "      border-color: transparent;\n",
              "      border-bottom-color: var(--fill-color);\n",
              "      border-left-color: var(--fill-color);\n",
              "    }\n",
              "    20% {\n",
              "      border-color: transparent;\n",
              "      border-left-color: var(--fill-color);\n",
              "      border-top-color: var(--fill-color);\n",
              "    }\n",
              "    30% {\n",
              "      border-color: transparent;\n",
              "      border-left-color: var(--fill-color);\n",
              "      border-top-color: var(--fill-color);\n",
              "      border-right-color: var(--fill-color);\n",
              "    }\n",
              "    40% {\n",
              "      border-color: transparent;\n",
              "      border-right-color: var(--fill-color);\n",
              "      border-top-color: var(--fill-color);\n",
              "    }\n",
              "    60% {\n",
              "      border-color: transparent;\n",
              "      border-right-color: var(--fill-color);\n",
              "    }\n",
              "    80% {\n",
              "      border-color: transparent;\n",
              "      border-right-color: var(--fill-color);\n",
              "      border-bottom-color: var(--fill-color);\n",
              "    }\n",
              "    90% {\n",
              "      border-color: transparent;\n",
              "      border-bottom-color: var(--fill-color);\n",
              "    }\n",
              "  }\n",
              "</style>\n",
              "\n",
              "      <script>\n",
              "        async function quickchart(key) {\n",
              "          const quickchartButtonEl =\n",
              "            document.querySelector('#' + key + ' button');\n",
              "          quickchartButtonEl.disabled = true;  // To prevent multiple clicks.\n",
              "          quickchartButtonEl.classList.add('colab-df-spinner');\n",
              "          try {\n",
              "            const charts = await google.colab.kernel.invokeFunction(\n",
              "                'suggestCharts', [key], {});\n",
              "          } catch (error) {\n",
              "            console.error('Error during call to suggestCharts:', error);\n",
              "          }\n",
              "          quickchartButtonEl.classList.remove('colab-df-spinner');\n",
              "          quickchartButtonEl.classList.add('colab-df-quickchart-complete');\n",
              "        }\n",
              "        (() => {\n",
              "          let quickchartButtonEl =\n",
              "            document.querySelector('#df-b649e778-4200-4ade-b48e-2889bb3a693e button');\n",
              "          quickchartButtonEl.style.display =\n",
              "            google.colab.kernel.accessAllowed ? 'block' : 'none';\n",
              "        })();\n",
              "      </script>\n",
              "    </div>\n",
              "\n",
              "    </div>\n",
              "  </div>\n"
            ],
            "application/vnd.google.colaboratory.intrinsic+json": {
              "type": "dataframe",
              "summary": "{\n  \"name\": \"comments_pandas[[\\\"vi_review\\\", \\\"tokenized_review\\\"]]\",\n  \"rows\": 5,\n  \"fields\": [\n    {\n      \"column\": \"vi_review\",\n      \"properties\": {\n        \"dtype\": \"string\",\n        \"num_unique_values\": 5,\n        \"samples\": [\n          \"C\\u00f3 lo\\u1ea1i kcn v\\u1eadt l\\u00fd ho\\u1eb7c v\\u1eadt l\\u00fd lai ho\\u00e1 h\\u1ecdc ki\\u1ec1m d\\u1ea7u ko \\u1ea1\",\n          \"c\\u00f2n kem ch\\u1ed1ng n\\u1eafng cho da th\\u01b0\\u1eddng th\\u00ec sao \\u1ea1??\",\n          \"d\\u00f9ng laros to\\u00e0n \\u0111\\u1ec3 l\\u1ea1i gh\\u00e9t k \\u00e0. b\\u00f4i xong k t\\u00e1n ra n\\u1ed5i lu\\u00f4n\"\n        ],\n        \"semantic_type\": \"\",\n        \"description\": \"\"\n      }\n    },\n    {\n      \"column\": \"tokenized_review\",\n      \"properties\": {\n        \"dtype\": \"string\",\n        \"num_unique_values\": 5,\n        \"samples\": [\n          \"C\\u00f3 lo\\u1ea1i kcn v\\u1eadt_l\\u00fd ho\\u1eb7c v\\u1eadt_l\\u00fd lai_h\\u00f3a h\\u1ecdc ki\\u1ec1m d\\u1ea7u ko \\u1ea1\",\n          \"c\\u00f2n kem ch\\u1ed1ng n\\u1eafng cho da th\\u01b0\\u1eddng th\\u00ec sao \\u1ea1 ? ?\",\n          \"d\\u00f9ng laros to\\u00e0n \\u0111\\u1ec3 l\\u1ea1i gh\\u00e9t k \\u00e0 . b\\u00f4i xong k_t\\u00e1n ra n\\u1ed5i lu\\u00f4n\"\n        ],\n        \"semantic_type\": \"\",\n        \"description\": \"\"\n      }\n    }\n  ]\n}"
            }
          },
          "metadata": {},
          "execution_count": 41
        }
      ]
    },
    {
      "cell_type": "markdown",
      "source": [
        "### Cài đặt Vocabulary.py"
      ],
      "metadata": {
        "id": "_NWfHrh8rNm-"
      }
    },
    {
      "cell_type": "code",
      "source": [
        "# Cài đặt Vocabulary.py trong link https://colab.research.google.com/drive/1NsMMzHGy2EWaJdRtgX-ZbiVNDE2G_dSZ?usp=sharing#scrollTo=JDWkevH2VdBn\n",
        "from itertools import chain\n",
        "from collections import Counter\n",
        "\n",
        "import torch\n",
        "from tqdm import tqdm\n",
        "from underthesea import word_tokenize\n",
        "\n",
        "\n",
        "class Vocabulary:\n",
        "    \"\"\" The Vocabulary class is used to record words, which are used to convert\n",
        "        text to numbers and vice versa.\n",
        "    \"\"\"\n",
        "\n",
        "    def __init__(self):\n",
        "        self.word2id = dict()\n",
        "        self.word2id['<pad>'] = 0   # Pad Token\n",
        "        self.word2id['<unk>'] = 1   # Unknown Token\n",
        "        self.unk_id = self.word2id['<unk>']\n",
        "        self.id2word = {v: k for k, v in self.word2id.items()}\n",
        "\n",
        "    def __getitem__(self, word):\n",
        "        return self.word2id.get(word, self.unk_id)\n",
        "\n",
        "    def __contains__(self, word):\n",
        "        return word in self.word2id\n",
        "\n",
        "    def __len__(self):\n",
        "        return len(self.word2id)\n",
        "\n",
        "    def id2word(self, word_index):\n",
        "        \"\"\"\n",
        "        @param word_index (int)\n",
        "        @return word (str)\n",
        "        \"\"\"\n",
        "        return self.id2word[word_index]\n",
        "\n",
        "#Tách token tiếng Việt và tiếng Anh kết hợp\n",
        "    def hybrid_tokenize(text):\n",
        "      vi_tokens = word_tokenize(text)\n",
        "      tokens = []\n",
        "      for token in vi_tokens:\n",
        "          # Tách các token tiếng Anh, emoji hoặc punctuation bằng regex\n",
        "          sub_tokens = re.findall(r\"\\w+|[^\\w\\s]\", token, re.UNICODE)\n",
        "          tokens.extend([t.replace(\" \", \"_\") for t in sub_tokens])\n",
        "      return tokens\n",
        "\n",
        "    def add(self, word):\n",
        "        \"\"\" Add word to vocabulary\n",
        "        @param word (str)\n",
        "        @return index (str): index of the word just added\n",
        "        \"\"\"\n",
        "        if word not in self:\n",
        "            word_index = self.word2id[word] = len(self.word2id)\n",
        "            self.id2word[word_index] = word\n",
        "            return word_index\n",
        "        else:\n",
        "            return self[word]\n",
        "\n",
        "    @staticmethod\n",
        "    def tokenize_corpus(corpus):\n",
        "        \"\"\"Split the documents of the corpus into words\n",
        "        @param corpus (list(str)): list of documents\n",
        "        @return tokenized_corpus (list(list(str))): list of words\n",
        "        \"\"\"\n",
        "        print(\"Tokenize the corpus...\")\n",
        "        tokenized_corpus = list()\n",
        "        for document in tqdm(corpus):\n",
        "            tokenized_document = [word.replace(\" \", \"_\") for word in word_tokenize(document)]\n",
        "            tokenized_corpus.append(tokenized_document)\n",
        "\n",
        "        return tokenized_corpus\n",
        "\n",
        "    def corpus_to_tensor(self, corpus, is_tokenized=False):\n",
        "        \"\"\" Convert corpus to a list of indices tensor\n",
        "        @param corpus (list(str) if is_tokenized==False else list(list(str)))\n",
        "        @param is_tokenized (bool)\n",
        "        @return indicies_corpus (list(tensor))\n",
        "        \"\"\"\n",
        "        if is_tokenized:\n",
        "            tokenized_corpus = corpus\n",
        "        else:\n",
        "            tokenized_corpus = self.tokenize_corpus(corpus)\n",
        "        indicies_corpus = list()\n",
        "        for document in tqdm(tokenized_corpus):\n",
        "            indicies_document = torch.tensor(list(map(lambda word: self[word], document)),\n",
        "                                             dtype=torch.int64)\n",
        "            indicies_corpus.append(indicies_document)\n",
        "\n",
        "        return indicies_corpus\n",
        "\n",
        "    def corpus_to_tensor(self, corpus, is_tokenized=False):\n",
        "      if not is_tokenized:\n",
        "          corpus = self.tokenize_corpus(corpus)  # chỉ tokenize nếu chưa tokenize\n",
        "      indicies_corpus = []\n",
        "      for document in corpus:\n",
        "          indicies_document = torch.tensor([self[word] for word in document], dtype=torch.int64)\n",
        "          indicies_corpus.append(indicies_document)\n",
        "      return indicies_corpus"
      ],
      "metadata": {
        "id": "S4GiiAgHHrGJ"
      },
      "execution_count": 42,
      "outputs": []
    },
    {
      "cell_type": "code",
      "source": [
        "import pandas as pd\n",
        "from underthesea import word_tokenize\n",
        "\n",
        "# Load dữ liệu TikTok đã gán nhãn\n",
        "df = pd.read_csv(folder + '/Data/Big Data/tiktok_self_supervised.csv')\n",
        "corpus = df['vi_review'].fillna('').tolist()\n",
        "\n",
        "# Tạo vocabulary\n",
        "vocab = Vocabulary()\n",
        "tokenized_corpus = vocab.tokenize_corpus(corpus)\n",
        "for document in tokenized_corpus:\n",
        "    for word in document:\n",
        "        vocab.add(word)\n"
      ],
      "metadata": {
        "id": "_YiTsqJQ3Tb_",
        "colab": {
          "base_uri": "https://localhost:8080/"
        },
        "outputId": "92894b22-0d93-4eb7-fa29-ae9d8b9a6ca9"
      },
      "execution_count": 43,
      "outputs": [
        {
          "output_type": "stream",
          "name": "stdout",
          "text": [
            "Tokenize the corpus...\n"
          ]
        },
        {
          "output_type": "stream",
          "name": "stderr",
          "text": [
            "100%|██████████| 13007/13007 [00:13<00:00, 976.04it/s] \n"
          ]
        }
      ]
    },
    {
      "cell_type": "markdown",
      "source": [
        "### Cài đặt IMDBDataset.py"
      ],
      "metadata": {
        "id": "REBH8iXuMEeQ"
      }
    },
    {
      "cell_type": "code",
      "source": [
        "# Cài đặt IMDBDataset.py trong link https://colab.research.google.com/drive/1NsMMzHGy2EWaJdRtgX-ZbiVNDE2G_dSZ?usp=sharing#scrollTo=JDWkevH2VdBn\n",
        "from scipy.linalg.special_matrices import dft\n",
        "import pandas as pd\n",
        "import torch\n",
        "from torch.utils.data import Dataset\n",
        "\n",
        "\n",
        "class IMDBDataset(Dataset):\n",
        "    \"\"\" Load dataset from file csv\"\"\"\n",
        "\n",
        "    def __init__(self, vocab, csv_fpath=None, tokenized_fpath=None):\n",
        "        \"\"\"\n",
        "        @param vocab (Vocabulary)\n",
        "        @param csv_fpath (str)\n",
        "        @param tokenized_fpath (str)\n",
        "        \"\"\"\n",
        "        self.vocab = vocab\n",
        "        self.pad_idx = vocab[\"<pad>\"]\n",
        "        df = pd.read_csv(csv_fpath)\n",
        "        self.sentiments_list = list(df.sentiment)\n",
        "        self.reviews_list = list(df.vi_review)\n",
        "\n",
        "        sentiments_type = list(set(self.sentiments_list))\n",
        "        sentiments_type.sort()\n",
        "\n",
        "        self.sentiment2id = {sentiment: i for i, sentiment in enumerate(sentiments_type)}\n",
        "\n",
        "        if tokenized_fpath:\n",
        "            self.tokenized_reviews = torch.load(tokenized_fpath)\n",
        "        else:\n",
        "            self.tokenized_reviews = self.vocab.tokenize_corpus(self.reviews_list)\n",
        "\n",
        "        self.tensor_data = self.vocab.corpus_to_tensor(self.tokenized_reviews, is_tokenized=True)\n",
        "        self.tensor_label = torch.tensor([self.sentiment2id[sentiment] for sentiment in self.sentiments_list],\n",
        "                                         dtype=torch.int64)\n",
        "\n",
        "    def __len__(self):\n",
        "      return len(self.tensor_data)\n",
        "\n",
        "    def __getitem__(self, idx):\n",
        "      return self.tensor_data[idx], self.tensor_label[idx]\n",
        "\n",
        "    def collate_fn(self, examples):\n",
        "      examples = sorted(examples, key=lambda e: len(e[0]), reverse=True)\n",
        "\n",
        "      reviews = [e[0] for e in examples]\n",
        "      reviews = torch.nn.utils.rnn.pad_sequence(reviews,\n",
        "                                                  batch_first=False,\n",
        "                                                  padding_value=self.pad_idx)\n",
        "      reviews_lengths = torch.tensor([len(e[0]) for e in examples])\n",
        "      sentiments = torch.tensor([e[1] for e in examples])\n",
        "\n",
        "      return {\"reviews\": (reviews, reviews_lengths), \"sentiments\": sentiments}"
      ],
      "metadata": {
        "colab": {
          "base_uri": "https://localhost:8080/"
        },
        "id": "C_iovWhWIBV1",
        "outputId": "d9af4550-2444-4a35-c81e-46d2cf505013"
      },
      "execution_count": 59,
      "outputs": [
        {
          "output_type": "stream",
          "name": "stderr",
          "text": [
            "<ipython-input-59-cc5145db61e3>:2: DeprecationWarning: Please import `dft` from the `scipy.linalg` namespace; the `scipy.linalg.special_matrices` namespace is deprecated and will be removed in SciPy 2.0.0.\n",
            "  from scipy.linalg.special_matrices import dft\n"
          ]
        }
      ]
    },
    {
      "cell_type": "code",
      "source": [
        "dataset = IMDBDataset(vocab, folder+'/Data/Big Data/tiktok_self_supervised.csv')\n"
      ],
      "metadata": {
        "colab": {
          "base_uri": "https://localhost:8080/"
        },
        "id": "a8oWl7D6tyh6",
        "outputId": "4923044b-0028-44a6-ad4c-3de43e4ba2d5"
      },
      "execution_count": 60,
      "outputs": [
        {
          "output_type": "stream",
          "name": "stdout",
          "text": [
            "Tokenize the corpus...\n"
          ]
        },
        {
          "output_type": "stream",
          "name": "stderr",
          "text": [
            "100%|██████████| 13007/13007 [00:12<00:00, 1044.21it/s]\n"
          ]
        }
      ]
    },
    {
      "cell_type": "markdown",
      "source": [
        "### Tạo DataLoader"
      ],
      "metadata": {
        "id": "ExVhVNhfOZls"
      }
    },
    {
      "cell_type": "code",
      "source": [
        "from torch.utils.data import random_split, DataLoader\n",
        "\n",
        "# Tỉ lệ chia train/valid/test\n",
        "split_rate = 0.8\n",
        "full_size = len(dataset)\n",
        "train_size = int(split_rate * full_size)\n",
        "valid_size = int((full_size - train_size) / 2)\n",
        "test_size = full_size - train_size - valid_size\n",
        "\n",
        "# Chia bộ dữ liệu thành 3 tập: train, valid, test\n",
        "train_dataset, valid_dataset, test_dataset = random_split(\n",
        "    dataset,\n",
        "    lengths=[train_size, valid_size, test_size],\n",
        "    generator=torch.Generator().manual_seed(42)  # Giữ reproducibility\n",
        ")\n",
        "\n",
        "# Khởi tạo DataLoader cho từng tập\n",
        "BATCH_SIZE = 100\n",
        "\n",
        "train_dataloader = DataLoader(train_dataset,\n",
        "                              batch_size=BATCH_SIZE,\n",
        "                              shuffle=True,\n",
        "                              collate_fn=dataset.collate_fn)\n",
        "\n",
        "valid_dataloader = DataLoader(valid_dataset,\n",
        "                              batch_size=BATCH_SIZE,\n",
        "                              shuffle=True,\n",
        "                              collate_fn=dataset.collate_fn)\n",
        "\n",
        "test_dataloader = DataLoader(test_dataset,\n",
        "                             batch_size=BATCH_SIZE,\n",
        "                             shuffle=False,\n",
        "                             collate_fn=dataset.collate_fn)\n"
      ],
      "metadata": {
        "id": "cc3W1v6MOdm_"
      },
      "execution_count": 61,
      "outputs": []
    },
    {
      "cell_type": "markdown",
      "source": [
        "### Huấn luyện Mô hình RNN"
      ],
      "metadata": {
        "id": "AgTRaP71McEn"
      }
    },
    {
      "cell_type": "code",
      "source": [
        "import torch.nn as nn\n",
        "\n",
        "class RNN(nn.Module):\n",
        "    def __init__(self, vocab_size, embedding_dim, hidden_dim, n_layers,\n",
        "                 bidirectional, dropout, pad_idx, output_dim):\n",
        "        \"\"\"\n",
        "        @param vocab_size (int)\n",
        "        @param embedding_dim (int)\n",
        "        @param hidden_dim (int)\n",
        "        @param n_layers (int)\n",
        "        @param bidirectional (bool)\n",
        "        @param dropout (float)\n",
        "        @param pad_idx (int)\n",
        "        @param output_dim (int)\n",
        "        \"\"\"\n",
        "        super().__init__()\n",
        "\n",
        "        self.embedding = nn.Embedding(vocab_size, embedding_dim, padding_idx = pad_idx)\n",
        "\n",
        "        self.rnn = nn.LSTM(embedding_dim,\n",
        "                           hidden_dim,\n",
        "                           num_layers=n_layers,\n",
        "                           bidirectional=bidirectional,\n",
        "                           dropout=dropout)\n",
        "\n",
        "        self.fc = nn.Linear(hidden_dim * 2, output_dim)\n",
        "\n",
        "        self.dropout = nn.Dropout(dropout)\n",
        "\n",
        "    def forward(self, text, text_lengths):\n",
        "        \"\"\"\n",
        "        @param text (torch.Tensor): shape = [sent len, batch size]\n",
        "        @param text_lengths (torch.Tensor): shape = [batch size]\n",
        "        @return\n",
        "        \"\"\"\n",
        "        #text = [sent len, batch size]\n",
        "        embedded = self.dropout(self.embedding(text))\n",
        "\n",
        "        #embedded = [sent len, batch size, emb dim]\n",
        "\n",
        "        #pack sequence\n",
        "        # lengths need to be on CPU!\n",
        "        packed_embedded = nn.utils.rnn.pack_padded_sequence(embedded, text_lengths.to('cpu'))\n",
        "\n",
        "        packed_output, (hidden, cell) = self.rnn(packed_embedded)\n",
        "\n",
        "        #unpack sequence\n",
        "        output, output_lengths = nn.utils.rnn.pad_packed_sequence(packed_output)\n",
        "\n",
        "        #output = [sent len, batch size, hid dim * num directions]\n",
        "        #output over padding tokens are zero tensors\n",
        "\n",
        "        #hidden = [num layers * num directions, batch size, hid dim]\n",
        "        #cell = [num layers * num directions, batch size, hid dim]\n",
        "\n",
        "        #concat the final forward (hidden[-2,:,:]) and backward (hidden[-1,:,:]) hidden layers\n",
        "        #and apply dropout\n",
        "\n",
        "        hidden = self.dropout(torch.cat((hidden[-2,:,:], hidden[-1,:,:]), dim = 1))\n",
        "\n",
        "        #hidden = [batch size, hid dim * num directions]\n",
        "\n",
        "        return self.fc(hidden)\n"
      ],
      "metadata": {
        "id": "zXgHwfvJMgKV"
      },
      "execution_count": 62,
      "outputs": []
    },
    {
      "cell_type": "code",
      "source": [
        "# Cấu hình mô hình\n",
        "# INPUT_DIM = len(vocab) = Số lượng từ trong vocab (không lấy từ word2vec)\n",
        "# EMBEDDING_DIM = 100 = Kích thước vector từ\n",
        "# HIDDEN_DIM = 256 = Số chiều ẩn trong LSTM\n",
        "# N_LAYERS = 2 = Số tầng LSTM\n",
        "# BIDIRECTIONAL = True = Dùng LSTM 2 chiều\n",
        "# DROPOUT = 0.5 = Tỷ lệ dropout\n",
        "# OUTPUT_DIM = 3 = 3 lớp cảm xúc: pos, neu, neg\n",
        "# PAD_IDX = Index của <pad>\n",
        "# UNK_IDX = Index của <unk>\n",
        "\n",
        "# Khởi tạo mô hình\n",
        "model = RNN(\n",
        "    vocab_size=len(vocab),\n",
        "    embedding_dim=100,\n",
        "    hidden_dim=256,\n",
        "    n_layers=2,\n",
        "    bidirectional=True,\n",
        "    dropout=0.5,\n",
        "    pad_idx=vocab['<pad>'],\n",
        "    output_dim=3\n",
        ")"
      ],
      "metadata": {
        "id": "zvmkvd1ZMpj7"
      },
      "execution_count": 63,
      "outputs": []
    },
    {
      "cell_type": "code",
      "source": [
        "import builtins\n",
        "sum  = builtins.sum\n",
        "\n",
        "def count_trainable_parameters(model):\n",
        "    return sum(p.numel() for p in model.parameters() if p.requires_grad)\n",
        "\n",
        "param_count = count_trainable_parameters(model)\n",
        "print(\"The model has\", param_count, \"trainable parameters\")"
      ],
      "metadata": {
        "colab": {
          "base_uri": "https://localhost:8080/"
        },
        "id": "y8tftRJ8pKVk",
        "outputId": "2c85fc32-0d00-4887-d902-12475e570cd3"
      },
      "execution_count": 64,
      "outputs": [
        {
          "output_type": "stream",
          "name": "stdout",
          "text": [
            "The model has 3635983 trainable parameters\n"
          ]
        }
      ]
    },
    {
      "cell_type": "markdown",
      "source": [
        "### Train mô hình"
      ],
      "metadata": {
        "id": "vSUIvWfNtxg6"
      }
    },
    {
      "cell_type": "code",
      "source": [
        "import torch.optim as optim\n",
        "\n",
        "device = torch.device('cuda' if torch.cuda.is_available() else 'cpu')\n",
        "\n",
        "optimizer = optim.Adam(model.parameters())\n",
        "criterion = nn.CrossEntropyLoss().to(device) # 3 lớp neg neu pos\n",
        "\n",
        "model = model.to(device)"
      ],
      "metadata": {
        "id": "8jcTqfWCt4ZD"
      },
      "execution_count": 65,
      "outputs": []
    },
    {
      "cell_type": "code",
      "source": [
        "# Hàm đo độ chính xác cho multiclass\n",
        "def categorical_accuracy(preds, y):\n",
        "    \"\"\"\n",
        "    @param preds (torch.Tensor): shape = [batch size, n classes]\n",
        "    @param y (torch.Tensor): shape = [batch size]\n",
        "    @return acc (float)\n",
        "    \"\"\"\n",
        "    max_preds = preds.argmax(dim=1, keepdim=False)\n",
        "    correct = max_preds.eq(y)\n",
        "    return correct.sum().float() / y.shape[0]"
      ],
      "metadata": {
        "id": "dNy2i1AwwjrU"
      },
      "execution_count": 66,
      "outputs": []
    },
    {
      "cell_type": "markdown",
      "source": [
        "#### Train"
      ],
      "metadata": {
        "id": "n0DuwCp8yEs2"
      }
    },
    {
      "cell_type": "code",
      "source": [
        "def train(model, dataloader, optimizer, criterion, device):\n",
        "    \"\"\"\n",
        "    @param model (RNN)\n",
        "    @param dataloader (DataLoader)\n",
        "    @param optimizer (torch.optim)\n",
        "    @param criterion (torch.nn.modules.loss)\n",
        "    @param device (torch.device)\n",
        "    @return epoch_loss (float): model's loss of this epoch\n",
        "    @return epoch_acc (float): model's accuracy of this epoch\n",
        "    \"\"\"\n",
        "    epoch_loss = 0\n",
        "    epoch_acc = 0\n",
        "\n",
        "    model.train()\n",
        "\n",
        "    for batch in dataloader:\n",
        "        optimizer.zero_grad()\n",
        "        reviews, reviews_lengths = batch[\"reviews\"]\n",
        "        reviews = reviews.to(device)\n",
        "        predictions = model(reviews, reviews_lengths).squeeze(1)\n",
        "        sentiments = batch[\"sentiments\"].to(device)\n",
        "        loss = criterion(predictions, sentiments)\n",
        "        acc = categorical_accuracy(predictions, sentiments)\n",
        "\n",
        "        predictions = model(reviews, reviews_lengths)  # Không squeeze\n",
        "        loss.backward()\n",
        "        optimizer.step()\n",
        "\n",
        "        epoch_loss += loss.item()\n",
        "        epoch_acc += acc.item()\n",
        "\n",
        "    batch_num = len(dataloader)\n",
        "    return epoch_loss / batch_num, epoch_acc / batch_num"
      ],
      "metadata": {
        "id": "fhbyq5HJxS1i"
      },
      "execution_count": 67,
      "outputs": []
    },
    {
      "cell_type": "markdown",
      "source": [
        "#### Eval"
      ],
      "metadata": {
        "id": "ewM-VPVbyHp0"
      }
    },
    {
      "cell_type": "code",
      "source": [
        "def evaluate(model, dataloader, criterion, device):\n",
        "    \"\"\"\n",
        "    @param model (RNN)\n",
        "    @param dataloader (DataLoader)\n",
        "    @param criterion (torch.nn.modules.loss)\n",
        "    @param device (torch.device)\n",
        "    @return epoch_loss (float): model's loss of this epoch\n",
        "    @return epoch_acc (float): model's accuracy of this epoch\n",
        "    \"\"\"\n",
        "    epoch_loss = 0\n",
        "    epoch_acc = 0\n",
        "\n",
        "    model.eval()\n",
        "\n",
        "    with torch.no_grad():\n",
        "        for batch in dataloader:\n",
        "\n",
        "            reviews, reviews_lengths = batch[\"reviews\"]\n",
        "            reviews = reviews.to(device)\n",
        "            predictions = model(reviews, reviews_lengths).squeeze(1)\n",
        "\n",
        "            sentiments = batch[\"sentiments\"].to(device)\n",
        "            loss = criterion(predictions, sentiments)\n",
        "            acc = categorical_accuracy(predictions, sentiments)\n",
        "\n",
        "            epoch_loss += loss.item()\n",
        "            epoch_acc += acc.item()\n",
        "\n",
        "    batch_num = len(dataloader)\n",
        "    return epoch_loss / batch_num, epoch_acc / batch_num"
      ],
      "metadata": {
        "id": "7nZe2wf0x3lJ"
      },
      "execution_count": 71,
      "outputs": []
    },
    {
      "cell_type": "code",
      "source": [
        "import time\n",
        "\n",
        "def epoch_time(start_time, end_time):\n",
        "    elapsed_time = end_time - start_time\n",
        "    elapsed_mins = int(elapsed_time / 60)\n",
        "    elapsed_secs = int(elapsed_time - (elapsed_mins * 60))\n",
        "    return elapsed_mins, elapsed_secs"
      ],
      "metadata": {
        "id": "H0f8SIQ8x_3W"
      },
      "execution_count": 72,
      "outputs": []
    },
    {
      "cell_type": "code",
      "source": [
        "N_EPOCHS = 5\n",
        "\n",
        "best_valid_loss = float(\"inf\")\n",
        "\n",
        "for epoch in range(N_EPOCHS):\n",
        "\n",
        "    start_time = time.time()\n",
        "\n",
        "    train_loss, train_acc = train(model, train_dataloader, optimizer, criterion, device)\n",
        "    valid_loss, valid_acc = evaluate(model, valid_dataloader, criterion, device)\n",
        "\n",
        "    end_time = time.time()\n",
        "\n",
        "    epoch_mins, epoch_secs = epoch_time(start_time, end_time)\n",
        "\n",
        "    if valid_loss < best_valid_loss:\n",
        "        best_valid_loss = valid_loss\n",
        "        torch.save(model.state_dict(), \"model.pt\")\n",
        "\n",
        "    print(f\"Epoch: {epoch+1:02} | Epoch Time: {epoch_mins}m {epoch_secs}s\")\n",
        "    print(f\"\\tTrain Loss: {train_loss:.3f} | Train Acc: {train_acc*100:.2f}%\")\n",
        "    print(f\"\\t Val. Loss: {valid_loss:.3f} |  Val. Acc: {valid_acc*100:.2f}%\")"
      ],
      "metadata": {
        "colab": {
          "base_uri": "https://localhost:8080/"
        },
        "id": "8gZIz0g4yQv3",
        "outputId": "d9c221f9-f621-4622-e039-53771973895f"
      },
      "execution_count": 73,
      "outputs": [
        {
          "output_type": "stream",
          "name": "stdout",
          "text": [
            "Epoch: 01 | Epoch Time: 1m 48s\n",
            "\tTrain Loss: 0.001 | Train Acc: 100.00%\n",
            "\t Val. Loss: 0.001 |  Val. Acc: 100.00%\n",
            "Epoch: 02 | Epoch Time: 1m 51s\n",
            "\tTrain Loss: 0.000 | Train Acc: 100.00%\n",
            "\t Val. Loss: 0.001 |  Val. Acc: 100.00%\n",
            "Epoch: 03 | Epoch Time: 1m 51s\n",
            "\tTrain Loss: 0.000 | Train Acc: 100.00%\n",
            "\t Val. Loss: 0.000 |  Val. Acc: 100.00%\n",
            "Epoch: 04 | Epoch Time: 1m 51s\n",
            "\tTrain Loss: 0.000 | Train Acc: 100.00%\n",
            "\t Val. Loss: 0.000 |  Val. Acc: 100.00%\n",
            "Epoch: 05 | Epoch Time: 1m 50s\n",
            "\tTrain Loss: 0.000 | Train Acc: 100.00%\n",
            "\t Val. Loss: 0.000 |  Val. Acc: 100.00%\n"
          ]
        }
      ]
    }
  ]
}